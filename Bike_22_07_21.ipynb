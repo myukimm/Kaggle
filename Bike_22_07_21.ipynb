{
 "cells": [
  {
   "cell_type": "code",
   "execution_count": 1,
   "id": "07304a41",
   "metadata": {
    "_cell_guid": "b1076dfc-b9ad-4769-8c92-a6c4dae69d19",
    "_uuid": "8f2839f25d086af736a60e9eeb907d3b93b6e0e5",
    "execution": {
     "iopub.execute_input": "2022-07-16T07:54:51.211049Z",
     "iopub.status.busy": "2022-07-16T07:54:51.210167Z",
     "iopub.status.idle": "2022-07-16T07:54:51.229301Z",
     "shell.execute_reply": "2022-07-16T07:54:51.228324Z"
    },
    "papermill": {
     "duration": 0.041869,
     "end_time": "2022-07-16T07:54:51.231370",
     "exception": false,
     "start_time": "2022-07-16T07:54:51.189501",
     "status": "completed"
    },
    "tags": []
   },
   "outputs": [
    {
     "name": "stdout",
     "output_type": "stream",
     "text": [
      "/kaggle/input/bikesharingdemand/sampleSubmission.csv\n",
      "/kaggle/input/bikesharingdemand/train.csv\n",
      "/kaggle/input/bikesharingdemand/test.csv\n"
     ]
    }
   ],
   "source": [
    "# This Python 3 environment comes with many helpful analytics libraries installed\n",
    "# It is defined by the kaggle/python Docker image: https://github.com/kaggle/docker-python\n",
    "# For example, here's several helpful packages to load\n",
    "\n",
    "import numpy as np # linear algebra\n",
    "import pandas as pd # data processing, CSV file I/O (e.g. pd.read_csv)\n",
    "\n",
    "# Input data files are available in the read-only \"../input/\" directory\n",
    "# For example, running this (by clicking run or pressing Shift+Enter) will list all files under the input directory\n",
    "\n",
    "import os\n",
    "for dirname, _, filenames in os.walk('/kaggle/input'):\n",
    "    for filename in filenames:\n",
    "        print(os.path.join(dirname, filename))\n",
    "\n",
    "# You can write up to 20GB to the current directory (/kaggle/working/) that gets preserved as output when you create a version using \"Save & Run All\" \n",
    "# You can also write temporary files to /kaggle/temp/, but they won't be saved outside of the current session"
   ]
  },
  {
   "cell_type": "markdown",
   "id": "6a28d46b",
   "metadata": {
    "papermill": {
     "duration": 0.015632,
     "end_time": "2022-07-16T07:54:51.263208",
     "exception": false,
     "start_time": "2022-07-16T07:54:51.247576",
     "status": "completed"
    },
    "tags": []
   },
   "source": [
    "# 1.자전거 대여 수요 예측 경진대회 탐색적 데이터 분석"
   ]
  },
  {
   "cell_type": "code",
   "execution_count": 2,
   "id": "32a3781d",
   "metadata": {
    "execution": {
     "iopub.execute_input": "2022-07-16T07:54:51.296715Z",
     "iopub.status.busy": "2022-07-16T07:54:51.296327Z",
     "iopub.status.idle": "2022-07-16T07:54:51.300543Z",
     "shell.execute_reply": "2022-07-16T07:54:51.299523Z"
    },
    "papermill": {
     "duration": 0.023671,
     "end_time": "2022-07-16T07:54:51.302824",
     "exception": false,
     "start_time": "2022-07-16T07:54:51.279153",
     "status": "completed"
    },
    "tags": []
   },
   "outputs": [],
   "source": [
    "#### 1.1 데이터 둘러보기"
   ]
  },
  {
   "cell_type": "code",
   "execution_count": 3,
   "id": "588e177c",
   "metadata": {
    "execution": {
     "iopub.execute_input": "2022-07-16T07:54:51.337102Z",
     "iopub.status.busy": "2022-07-16T07:54:51.336734Z",
     "iopub.status.idle": "2022-07-16T07:54:51.405569Z",
     "shell.execute_reply": "2022-07-16T07:54:51.404371Z"
    },
    "papermill": {
     "duration": 0.08865,
     "end_time": "2022-07-16T07:54:51.408009",
     "exception": false,
     "start_time": "2022-07-16T07:54:51.319359",
     "status": "completed"
    },
    "tags": []
   },
   "outputs": [],
   "source": [
    "import numpy as np\n",
    "import pandas as pd # 판다스 임포트\n",
    "\n",
    "# 데이터 경로\n",
    "data_path = '/kaggle/input/bikesharingdemand/'\n",
    "\n",
    "train = pd.read_csv(data_path + 'train.csv') # 훈련 데이터\n",
    "test = pd.read_csv(data_path + 'test.csv')   # 테스트 데이터\n",
    "submission = pd.read_csv(data_path + 'sampleSubmission.csv') # 제출 샘플 데이터"
   ]
  },
  {
   "cell_type": "code",
   "execution_count": 4,
   "id": "207ae593",
   "metadata": {
    "execution": {
     "iopub.execute_input": "2022-07-16T07:54:51.443255Z",
     "iopub.status.busy": "2022-07-16T07:54:51.442359Z",
     "iopub.status.idle": "2022-07-16T07:54:51.449760Z",
     "shell.execute_reply": "2022-07-16T07:54:51.448938Z"
    },
    "papermill": {
     "duration": 0.027044,
     "end_time": "2022-07-16T07:54:51.451603",
     "exception": false,
     "start_time": "2022-07-16T07:54:51.424559",
     "status": "completed"
    },
    "tags": []
   },
   "outputs": [
    {
     "data": {
      "text/plain": [
       "((10886, 12), (6493, 9))"
      ]
     },
     "execution_count": 4,
     "metadata": {},
     "output_type": "execute_result"
    }
   ],
   "source": [
    "train.shape, test.shape"
   ]
  },
  {
   "cell_type": "code",
   "execution_count": 5,
   "id": "a72e54cf",
   "metadata": {
    "execution": {
     "iopub.execute_input": "2022-07-16T07:54:51.485871Z",
     "iopub.status.busy": "2022-07-16T07:54:51.485213Z",
     "iopub.status.idle": "2022-07-16T07:54:51.504742Z",
     "shell.execute_reply": "2022-07-16T07:54:51.503638Z"
    },
    "papermill": {
     "duration": 0.03906,
     "end_time": "2022-07-16T07:54:51.506979",
     "exception": false,
     "start_time": "2022-07-16T07:54:51.467919",
     "status": "completed"
    },
    "tags": []
   },
   "outputs": [
    {
     "data": {
      "text/html": [
       "<div>\n",
       "<style scoped>\n",
       "    .dataframe tbody tr th:only-of-type {\n",
       "        vertical-align: middle;\n",
       "    }\n",
       "\n",
       "    .dataframe tbody tr th {\n",
       "        vertical-align: top;\n",
       "    }\n",
       "\n",
       "    .dataframe thead th {\n",
       "        text-align: right;\n",
       "    }\n",
       "</style>\n",
       "<table border=\"1\" class=\"dataframe\">\n",
       "  <thead>\n",
       "    <tr style=\"text-align: right;\">\n",
       "      <th></th>\n",
       "      <th>datetime</th>\n",
       "      <th>season</th>\n",
       "      <th>holiday</th>\n",
       "      <th>workingday</th>\n",
       "      <th>weather</th>\n",
       "      <th>temp</th>\n",
       "      <th>atemp</th>\n",
       "      <th>humidity</th>\n",
       "      <th>windspeed</th>\n",
       "      <th>casual</th>\n",
       "      <th>registered</th>\n",
       "      <th>count</th>\n",
       "    </tr>\n",
       "  </thead>\n",
       "  <tbody>\n",
       "    <tr>\n",
       "      <th>0</th>\n",
       "      <td>2011-01-01 00:00:00</td>\n",
       "      <td>1</td>\n",
       "      <td>0</td>\n",
       "      <td>0</td>\n",
       "      <td>1</td>\n",
       "      <td>9.84</td>\n",
       "      <td>14.395</td>\n",
       "      <td>81</td>\n",
       "      <td>0.0</td>\n",
       "      <td>3</td>\n",
       "      <td>13</td>\n",
       "      <td>16</td>\n",
       "    </tr>\n",
       "    <tr>\n",
       "      <th>1</th>\n",
       "      <td>2011-01-01 01:00:00</td>\n",
       "      <td>1</td>\n",
       "      <td>0</td>\n",
       "      <td>0</td>\n",
       "      <td>1</td>\n",
       "      <td>9.02</td>\n",
       "      <td>13.635</td>\n",
       "      <td>80</td>\n",
       "      <td>0.0</td>\n",
       "      <td>8</td>\n",
       "      <td>32</td>\n",
       "      <td>40</td>\n",
       "    </tr>\n",
       "    <tr>\n",
       "      <th>2</th>\n",
       "      <td>2011-01-01 02:00:00</td>\n",
       "      <td>1</td>\n",
       "      <td>0</td>\n",
       "      <td>0</td>\n",
       "      <td>1</td>\n",
       "      <td>9.02</td>\n",
       "      <td>13.635</td>\n",
       "      <td>80</td>\n",
       "      <td>0.0</td>\n",
       "      <td>5</td>\n",
       "      <td>27</td>\n",
       "      <td>32</td>\n",
       "    </tr>\n",
       "    <tr>\n",
       "      <th>3</th>\n",
       "      <td>2011-01-01 03:00:00</td>\n",
       "      <td>1</td>\n",
       "      <td>0</td>\n",
       "      <td>0</td>\n",
       "      <td>1</td>\n",
       "      <td>9.84</td>\n",
       "      <td>14.395</td>\n",
       "      <td>75</td>\n",
       "      <td>0.0</td>\n",
       "      <td>3</td>\n",
       "      <td>10</td>\n",
       "      <td>13</td>\n",
       "    </tr>\n",
       "    <tr>\n",
       "      <th>4</th>\n",
       "      <td>2011-01-01 04:00:00</td>\n",
       "      <td>1</td>\n",
       "      <td>0</td>\n",
       "      <td>0</td>\n",
       "      <td>1</td>\n",
       "      <td>9.84</td>\n",
       "      <td>14.395</td>\n",
       "      <td>75</td>\n",
       "      <td>0.0</td>\n",
       "      <td>0</td>\n",
       "      <td>1</td>\n",
       "      <td>1</td>\n",
       "    </tr>\n",
       "  </tbody>\n",
       "</table>\n",
       "</div>"
      ],
      "text/plain": [
       "              datetime  season  holiday  workingday  weather  temp   atemp  \\\n",
       "0  2011-01-01 00:00:00       1        0           0        1  9.84  14.395   \n",
       "1  2011-01-01 01:00:00       1        0           0        1  9.02  13.635   \n",
       "2  2011-01-01 02:00:00       1        0           0        1  9.02  13.635   \n",
       "3  2011-01-01 03:00:00       1        0           0        1  9.84  14.395   \n",
       "4  2011-01-01 04:00:00       1        0           0        1  9.84  14.395   \n",
       "\n",
       "   humidity  windspeed  casual  registered  count  \n",
       "0        81        0.0       3          13     16  \n",
       "1        80        0.0       8          32     40  \n",
       "2        80        0.0       5          27     32  \n",
       "3        75        0.0       3          10     13  \n",
       "4        75        0.0       0           1      1  "
      ]
     },
     "execution_count": 5,
     "metadata": {},
     "output_type": "execute_result"
    }
   ],
   "source": [
    "train.head()"
   ]
  },
  {
   "cell_type": "code",
   "execution_count": 6,
   "id": "4c2b3d96",
   "metadata": {
    "execution": {
     "iopub.execute_input": "2022-07-16T07:54:51.542485Z",
     "iopub.status.busy": "2022-07-16T07:54:51.541740Z",
     "iopub.status.idle": "2022-07-16T07:54:51.556010Z",
     "shell.execute_reply": "2022-07-16T07:54:51.554791Z"
    },
    "papermill": {
     "duration": 0.035111,
     "end_time": "2022-07-16T07:54:51.558307",
     "exception": false,
     "start_time": "2022-07-16T07:54:51.523196",
     "status": "completed"
    },
    "tags": []
   },
   "outputs": [
    {
     "data": {
      "text/html": [
       "<div>\n",
       "<style scoped>\n",
       "    .dataframe tbody tr th:only-of-type {\n",
       "        vertical-align: middle;\n",
       "    }\n",
       "\n",
       "    .dataframe tbody tr th {\n",
       "        vertical-align: top;\n",
       "    }\n",
       "\n",
       "    .dataframe thead th {\n",
       "        text-align: right;\n",
       "    }\n",
       "</style>\n",
       "<table border=\"1\" class=\"dataframe\">\n",
       "  <thead>\n",
       "    <tr style=\"text-align: right;\">\n",
       "      <th></th>\n",
       "      <th>datetime</th>\n",
       "      <th>season</th>\n",
       "      <th>holiday</th>\n",
       "      <th>workingday</th>\n",
       "      <th>weather</th>\n",
       "      <th>temp</th>\n",
       "      <th>atemp</th>\n",
       "      <th>humidity</th>\n",
       "      <th>windspeed</th>\n",
       "    </tr>\n",
       "  </thead>\n",
       "  <tbody>\n",
       "    <tr>\n",
       "      <th>0</th>\n",
       "      <td>2011-01-20 00:00:00</td>\n",
       "      <td>1</td>\n",
       "      <td>0</td>\n",
       "      <td>1</td>\n",
       "      <td>1</td>\n",
       "      <td>10.66</td>\n",
       "      <td>11.365</td>\n",
       "      <td>56</td>\n",
       "      <td>26.0027</td>\n",
       "    </tr>\n",
       "    <tr>\n",
       "      <th>1</th>\n",
       "      <td>2011-01-20 01:00:00</td>\n",
       "      <td>1</td>\n",
       "      <td>0</td>\n",
       "      <td>1</td>\n",
       "      <td>1</td>\n",
       "      <td>10.66</td>\n",
       "      <td>13.635</td>\n",
       "      <td>56</td>\n",
       "      <td>0.0000</td>\n",
       "    </tr>\n",
       "    <tr>\n",
       "      <th>2</th>\n",
       "      <td>2011-01-20 02:00:00</td>\n",
       "      <td>1</td>\n",
       "      <td>0</td>\n",
       "      <td>1</td>\n",
       "      <td>1</td>\n",
       "      <td>10.66</td>\n",
       "      <td>13.635</td>\n",
       "      <td>56</td>\n",
       "      <td>0.0000</td>\n",
       "    </tr>\n",
       "    <tr>\n",
       "      <th>3</th>\n",
       "      <td>2011-01-20 03:00:00</td>\n",
       "      <td>1</td>\n",
       "      <td>0</td>\n",
       "      <td>1</td>\n",
       "      <td>1</td>\n",
       "      <td>10.66</td>\n",
       "      <td>12.880</td>\n",
       "      <td>56</td>\n",
       "      <td>11.0014</td>\n",
       "    </tr>\n",
       "    <tr>\n",
       "      <th>4</th>\n",
       "      <td>2011-01-20 04:00:00</td>\n",
       "      <td>1</td>\n",
       "      <td>0</td>\n",
       "      <td>1</td>\n",
       "      <td>1</td>\n",
       "      <td>10.66</td>\n",
       "      <td>12.880</td>\n",
       "      <td>56</td>\n",
       "      <td>11.0014</td>\n",
       "    </tr>\n",
       "  </tbody>\n",
       "</table>\n",
       "</div>"
      ],
      "text/plain": [
       "              datetime  season  holiday  workingday  weather   temp   atemp  \\\n",
       "0  2011-01-20 00:00:00       1        0           1        1  10.66  11.365   \n",
       "1  2011-01-20 01:00:00       1        0           1        1  10.66  13.635   \n",
       "2  2011-01-20 02:00:00       1        0           1        1  10.66  13.635   \n",
       "3  2011-01-20 03:00:00       1        0           1        1  10.66  12.880   \n",
       "4  2011-01-20 04:00:00       1        0           1        1  10.66  12.880   \n",
       "\n",
       "   humidity  windspeed  \n",
       "0        56    26.0027  \n",
       "1        56     0.0000  \n",
       "2        56     0.0000  \n",
       "3        56    11.0014  \n",
       "4        56    11.0014  "
      ]
     },
     "execution_count": 6,
     "metadata": {},
     "output_type": "execute_result"
    }
   ],
   "source": [
    "test.head()"
   ]
  },
  {
   "cell_type": "markdown",
   "id": "77acd4ee",
   "metadata": {
    "papermill": {
     "duration": 0.016383,
     "end_time": "2022-07-16T07:54:51.591526",
     "exception": false,
     "start_time": "2022-07-16T07:54:51.575143",
     "status": "completed"
    },
    "tags": []
   },
   "source": [
    "casual, registered, count를 예측해야겠다."
   ]
  },
  {
   "cell_type": "code",
   "execution_count": 7,
   "id": "1f2e0c88",
   "metadata": {
    "execution": {
     "iopub.execute_input": "2022-07-16T07:54:51.626802Z",
     "iopub.status.busy": "2022-07-16T07:54:51.626128Z",
     "iopub.status.idle": "2022-07-16T07:54:51.634666Z",
     "shell.execute_reply": "2022-07-16T07:54:51.633881Z"
    },
    "papermill": {
     "duration": 0.028632,
     "end_time": "2022-07-16T07:54:51.636775",
     "exception": false,
     "start_time": "2022-07-16T07:54:51.608143",
     "status": "completed"
    },
    "tags": []
   },
   "outputs": [
    {
     "data": {
      "text/html": [
       "<div>\n",
       "<style scoped>\n",
       "    .dataframe tbody tr th:only-of-type {\n",
       "        vertical-align: middle;\n",
       "    }\n",
       "\n",
       "    .dataframe tbody tr th {\n",
       "        vertical-align: top;\n",
       "    }\n",
       "\n",
       "    .dataframe thead th {\n",
       "        text-align: right;\n",
       "    }\n",
       "</style>\n",
       "<table border=\"1\" class=\"dataframe\">\n",
       "  <thead>\n",
       "    <tr style=\"text-align: right;\">\n",
       "      <th></th>\n",
       "      <th>datetime</th>\n",
       "      <th>count</th>\n",
       "    </tr>\n",
       "  </thead>\n",
       "  <tbody>\n",
       "    <tr>\n",
       "      <th>0</th>\n",
       "      <td>2011-01-20 00:00:00</td>\n",
       "      <td>0</td>\n",
       "    </tr>\n",
       "    <tr>\n",
       "      <th>1</th>\n",
       "      <td>2011-01-20 01:00:00</td>\n",
       "      <td>0</td>\n",
       "    </tr>\n",
       "    <tr>\n",
       "      <th>2</th>\n",
       "      <td>2011-01-20 02:00:00</td>\n",
       "      <td>0</td>\n",
       "    </tr>\n",
       "    <tr>\n",
       "      <th>3</th>\n",
       "      <td>2011-01-20 03:00:00</td>\n",
       "      <td>0</td>\n",
       "    </tr>\n",
       "    <tr>\n",
       "      <th>4</th>\n",
       "      <td>2011-01-20 04:00:00</td>\n",
       "      <td>0</td>\n",
       "    </tr>\n",
       "  </tbody>\n",
       "</table>\n",
       "</div>"
      ],
      "text/plain": [
       "              datetime  count\n",
       "0  2011-01-20 00:00:00      0\n",
       "1  2011-01-20 01:00:00      0\n",
       "2  2011-01-20 02:00:00      0\n",
       "3  2011-01-20 03:00:00      0\n",
       "4  2011-01-20 04:00:00      0"
      ]
     },
     "execution_count": 7,
     "metadata": {},
     "output_type": "execute_result"
    }
   ],
   "source": [
    "submission.head()"
   ]
  },
  {
   "cell_type": "code",
   "execution_count": 8,
   "id": "1b356951",
   "metadata": {
    "execution": {
     "iopub.execute_input": "2022-07-16T07:54:51.671792Z",
     "iopub.status.busy": "2022-07-16T07:54:51.671353Z",
     "iopub.status.idle": "2022-07-16T07:54:51.696866Z",
     "shell.execute_reply": "2022-07-16T07:54:51.695179Z"
    },
    "papermill": {
     "duration": 0.045702,
     "end_time": "2022-07-16T07:54:51.699221",
     "exception": false,
     "start_time": "2022-07-16T07:54:51.653519",
     "status": "completed"
    },
    "tags": []
   },
   "outputs": [
    {
     "name": "stdout",
     "output_type": "stream",
     "text": [
      "<class 'pandas.core.frame.DataFrame'>\n",
      "RangeIndex: 10886 entries, 0 to 10885\n",
      "Data columns (total 12 columns):\n",
      " #   Column      Non-Null Count  Dtype  \n",
      "---  ------      --------------  -----  \n",
      " 0   datetime    10886 non-null  object \n",
      " 1   season      10886 non-null  int64  \n",
      " 2   holiday     10886 non-null  int64  \n",
      " 3   workingday  10886 non-null  int64  \n",
      " 4   weather     10886 non-null  int64  \n",
      " 5   temp        10886 non-null  float64\n",
      " 6   atemp       10886 non-null  float64\n",
      " 7   humidity    10886 non-null  int64  \n",
      " 8   windspeed   10886 non-null  float64\n",
      " 9   casual      10886 non-null  int64  \n",
      " 10  registered  10886 non-null  int64  \n",
      " 11  count       10886 non-null  int64  \n",
      "dtypes: float64(3), int64(8), object(1)\n",
      "memory usage: 1020.7+ KB\n"
     ]
    }
   ],
   "source": [
    "train.info()"
   ]
  },
  {
   "cell_type": "code",
   "execution_count": 9,
   "id": "09b6d879",
   "metadata": {
    "execution": {
     "iopub.execute_input": "2022-07-16T07:54:51.738427Z",
     "iopub.status.busy": "2022-07-16T07:54:51.738078Z",
     "iopub.status.idle": "2022-07-16T07:54:51.756551Z",
     "shell.execute_reply": "2022-07-16T07:54:51.754935Z"
    },
    "papermill": {
     "duration": 0.040043,
     "end_time": "2022-07-16T07:54:51.759425",
     "exception": false,
     "start_time": "2022-07-16T07:54:51.719382",
     "status": "completed"
    },
    "tags": []
   },
   "outputs": [
    {
     "name": "stdout",
     "output_type": "stream",
     "text": [
      "<class 'pandas.core.frame.DataFrame'>\n",
      "RangeIndex: 6493 entries, 0 to 6492\n",
      "Data columns (total 9 columns):\n",
      " #   Column      Non-Null Count  Dtype  \n",
      "---  ------      --------------  -----  \n",
      " 0   datetime    6493 non-null   object \n",
      " 1   season      6493 non-null   int64  \n",
      " 2   holiday     6493 non-null   int64  \n",
      " 3   workingday  6493 non-null   int64  \n",
      " 4   weather     6493 non-null   int64  \n",
      " 5   temp        6493 non-null   float64\n",
      " 6   atemp       6493 non-null   float64\n",
      " 7   humidity    6493 non-null   int64  \n",
      " 8   windspeed   6493 non-null   float64\n",
      "dtypes: float64(3), int64(5), object(1)\n",
      "memory usage: 456.7+ KB\n"
     ]
    }
   ],
   "source": [
    "test.info()"
   ]
  },
  {
   "cell_type": "markdown",
   "id": "b63030d3",
   "metadata": {
    "papermill": {
     "duration": 0.022407,
     "end_time": "2022-07-16T07:54:51.808075",
     "exception": false,
     "start_time": "2022-07-16T07:54:51.785668",
     "status": "completed"
    },
    "tags": []
   },
   "source": [
    "#### 1.2 더 효과적인 분석을 위한 피처 엔지니어링"
   ]
  },
  {
   "cell_type": "code",
   "execution_count": 10,
   "id": "33e02926",
   "metadata": {
    "execution": {
     "iopub.execute_input": "2022-07-16T07:54:51.844439Z",
     "iopub.status.busy": "2022-07-16T07:54:51.843836Z",
     "iopub.status.idle": "2022-07-16T07:54:51.850804Z",
     "shell.execute_reply": "2022-07-16T07:54:51.849515Z"
    },
    "papermill": {
     "duration": 0.027584,
     "end_time": "2022-07-16T07:54:51.853072",
     "exception": false,
     "start_time": "2022-07-16T07:54:51.825488",
     "status": "completed"
    },
    "tags": []
   },
   "outputs": [
    {
     "name": "stdout",
     "output_type": "stream",
     "text": [
      "2011-01-05 09:00:00\n",
      "['2011-01-05', '09:00:00']\n",
      "2011-01-05\n",
      "09:00:00\n"
     ]
    }
   ],
   "source": [
    "print(train['datetime'][100]) # datetime 100번째 요소\n",
    "print(train['datetime'][100].split()) #공백 기준으로 문자열 나누기\n",
    "print(train['datetime'][100].split()[0]) # 날짜\n",
    "print(train['datetime'][100].split()[1]) # 시간"
   ]
  },
  {
   "cell_type": "code",
   "execution_count": 11,
   "id": "0e286b43",
   "metadata": {
    "execution": {
     "iopub.execute_input": "2022-07-16T07:54:51.890124Z",
     "iopub.status.busy": "2022-07-16T07:54:51.889514Z",
     "iopub.status.idle": "2022-07-16T07:54:51.897590Z",
     "shell.execute_reply": "2022-07-16T07:54:51.896278Z"
    },
    "papermill": {
     "duration": 0.029823,
     "end_time": "2022-07-16T07:54:51.899811",
     "exception": false,
     "start_time": "2022-07-16T07:54:51.869988",
     "status": "completed"
    },
    "tags": []
   },
   "outputs": [
    {
     "name": "stdout",
     "output_type": "stream",
     "text": [
      "2011-01-05\n",
      "['2011', '01', '05']\n",
      "2011\n",
      "01\n",
      "05\n"
     ]
    }
   ],
   "source": [
    "print(train['datetime'][100].split()[0])\n",
    "print(train['datetime'][100].split()[0].split('-')) # '-'기준으로 문자열 나누기\n",
    "print(train['datetime'][100].split()[0].split('-')[0]) # 연도\n",
    "print(train['datetime'][100].split()[0].split('-')[1]) # 월\n",
    "print(train['datetime'][100].split()[0].split('-')[2]) # 일"
   ]
  },
  {
   "cell_type": "code",
   "execution_count": 12,
   "id": "b9708c45",
   "metadata": {
    "execution": {
     "iopub.execute_input": "2022-07-16T07:54:51.935767Z",
     "iopub.status.busy": "2022-07-16T07:54:51.935356Z",
     "iopub.status.idle": "2022-07-16T07:54:51.942192Z",
     "shell.execute_reply": "2022-07-16T07:54:51.941126Z"
    },
    "papermill": {
     "duration": 0.028088,
     "end_time": "2022-07-16T07:54:51.944947",
     "exception": false,
     "start_time": "2022-07-16T07:54:51.916859",
     "status": "completed"
    },
    "tags": []
   },
   "outputs": [
    {
     "name": "stdout",
     "output_type": "stream",
     "text": [
      "09:00:00\n",
      "['09', '00', '00']\n",
      "09\n",
      "00\n",
      "00\n"
     ]
    }
   ],
   "source": [
    "print(train['datetime'][100].split()[1]) # 시간\n",
    "print(train['datetime'][100].split()[1].split(':')) # \":\" 기준으로 문자열 나누기\n",
    "print(train['datetime'][100].split()[1].split(':')[0]) # 시간\n",
    "print(train['datetime'][100].split()[1].split(':')[1]) # 분\n",
    "print(train['datetime'][100].split()[1].split(':')[2]) # 초"
   ]
  },
  {
   "cell_type": "code",
   "execution_count": 13,
   "id": "40b553ab",
   "metadata": {
    "execution": {
     "iopub.execute_input": "2022-07-16T07:54:51.983501Z",
     "iopub.status.busy": "2022-07-16T07:54:51.982347Z",
     "iopub.status.idle": "2022-07-16T07:54:52.034980Z",
     "shell.execute_reply": "2022-07-16T07:54:52.033781Z"
    },
    "papermill": {
     "duration": 0.073194,
     "end_time": "2022-07-16T07:54:52.037458",
     "exception": false,
     "start_time": "2022-07-16T07:54:51.964264",
     "status": "completed"
    },
    "tags": []
   },
   "outputs": [],
   "source": [
    "train['date'] = train['datetime'].apply(lambda x: x.split()[0]) # 날짜 피처 생성\n",
    "\n",
    "# 연도, 월, 일, 시, 분, 초 피처를 차례로 생성\n",
    "train['year'] = train['datetime'].apply(lambda x: x.split()[0].split('-')[0]) \n",
    "train['month'] = train['datetime'].apply(lambda x: x.split()[0].split('-')[1])\n",
    "train['day'] = train['datetime'].apply(lambda x: x.split()[0].split('-')[2]) \n",
    "train['hour'] = train['datetime'].apply(lambda x: x.split()[1].split(':')[0])\n",
    "train['minute'] = train['datetime'].apply(lambda x: x.split()[1].split(':')[1])\n",
    "train['second'] = train['datetime'].apply(lambda x: x.split()[1].split(':')[2])"
   ]
  },
  {
   "cell_type": "code",
   "execution_count": 14,
   "id": "db2c165c",
   "metadata": {
    "execution": {
     "iopub.execute_input": "2022-07-16T07:54:52.073675Z",
     "iopub.status.busy": "2022-07-16T07:54:52.073289Z",
     "iopub.status.idle": "2022-07-16T07:54:52.080490Z",
     "shell.execute_reply": "2022-07-16T07:54:52.079766Z"
    },
    "papermill": {
     "duration": 0.028693,
     "end_time": "2022-07-16T07:54:52.083689",
     "exception": false,
     "start_time": "2022-07-16T07:54:52.054996",
     "status": "completed"
    },
    "tags": []
   },
   "outputs": [
    {
     "name": "stdout",
     "output_type": "stream",
     "text": [
      "2011-01-05\n",
      "2011-01-05 00:00:00\n",
      "2\n",
      "Wednesday\n"
     ]
    }
   ],
   "source": [
    "from datetime import datetime # datatime 라이브러리 임포트\n",
    "import calendar\n",
    "\n",
    "print(train['date'][100]) #날짜\n",
    "print(datetime.strptime(train['date'][100], '%Y-%m-%d')) # datetime 타입으로 변경\n",
    "print(datetime.strptime(train['date'][100], '%Y-%m-%d').weekday()) # 점수로 요일 반환\n",
    "print(calendar.day_name[datetime.strptime(train['date'][100], '%Y-%m-%d').weekday()]) # 문자열로 요일 반환"
   ]
  },
  {
   "cell_type": "code",
   "execution_count": 15,
   "id": "e2978f7c",
   "metadata": {
    "execution": {
     "iopub.execute_input": "2022-07-16T07:54:52.122201Z",
     "iopub.status.busy": "2022-07-16T07:54:52.121831Z",
     "iopub.status.idle": "2022-07-16T07:54:52.254738Z",
     "shell.execute_reply": "2022-07-16T07:54:52.253749Z"
    },
    "papermill": {
     "duration": 0.154261,
     "end_time": "2022-07-16T07:54:52.257169",
     "exception": false,
     "start_time": "2022-07-16T07:54:52.102908",
     "status": "completed"
    },
    "tags": []
   },
   "outputs": [],
   "source": [
    "train['weekday'] = train['date'].apply(\n",
    "    lambda dateString:\n",
    "    calendar.day_name[datetime.strptime(dateString, \"%Y-%m-%d\").\n",
    "weekday()])"
   ]
  },
  {
   "cell_type": "code",
   "execution_count": 16,
   "id": "f0d4286b",
   "metadata": {
    "execution": {
     "iopub.execute_input": "2022-07-16T07:54:52.294595Z",
     "iopub.status.busy": "2022-07-16T07:54:52.293491Z",
     "iopub.status.idle": "2022-07-16T07:54:52.303254Z",
     "shell.execute_reply": "2022-07-16T07:54:52.302337Z"
    },
    "papermill": {
     "duration": 0.030559,
     "end_time": "2022-07-16T07:54:52.305384",
     "exception": false,
     "start_time": "2022-07-16T07:54:52.274825",
     "status": "completed"
    },
    "tags": []
   },
   "outputs": [],
   "source": [
    "train['season'] = train['season'].map({1: 'Spring',\n",
    "                                       2: 'Summer',\n",
    "                                       3: 'Fall',\n",
    "                                       4: 'Winter'})\n",
    "train['weather'] = train['weather'].map({1: 'Clear',\n",
    "                                        2: 'Mist, Few clouds',\n",
    "                                        3: 'Light Snow, Rain, Thunder',\n",
    "                                        4: 'Heavy Snow, Rain, Thunder'})"
   ]
  },
  {
   "cell_type": "code",
   "execution_count": 17,
   "id": "c35d3c1e",
   "metadata": {
    "execution": {
     "iopub.execute_input": "2022-07-16T07:54:52.340566Z",
     "iopub.status.busy": "2022-07-16T07:54:52.340204Z",
     "iopub.status.idle": "2022-07-16T07:54:52.360828Z",
     "shell.execute_reply": "2022-07-16T07:54:52.359785Z"
    },
    "papermill": {
     "duration": 0.040421,
     "end_time": "2022-07-16T07:54:52.362698",
     "exception": false,
     "start_time": "2022-07-16T07:54:52.322277",
     "status": "completed"
    },
    "tags": []
   },
   "outputs": [
    {
     "data": {
      "text/html": [
       "<div>\n",
       "<style scoped>\n",
       "    .dataframe tbody tr th:only-of-type {\n",
       "        vertical-align: middle;\n",
       "    }\n",
       "\n",
       "    .dataframe tbody tr th {\n",
       "        vertical-align: top;\n",
       "    }\n",
       "\n",
       "    .dataframe thead th {\n",
       "        text-align: right;\n",
       "    }\n",
       "</style>\n",
       "<table border=\"1\" class=\"dataframe\">\n",
       "  <thead>\n",
       "    <tr style=\"text-align: right;\">\n",
       "      <th></th>\n",
       "      <th>datetime</th>\n",
       "      <th>season</th>\n",
       "      <th>holiday</th>\n",
       "      <th>workingday</th>\n",
       "      <th>weather</th>\n",
       "      <th>temp</th>\n",
       "      <th>atemp</th>\n",
       "      <th>humidity</th>\n",
       "      <th>windspeed</th>\n",
       "      <th>casual</th>\n",
       "      <th>registered</th>\n",
       "      <th>count</th>\n",
       "      <th>date</th>\n",
       "      <th>year</th>\n",
       "      <th>month</th>\n",
       "      <th>day</th>\n",
       "      <th>hour</th>\n",
       "      <th>minute</th>\n",
       "      <th>second</th>\n",
       "      <th>weekday</th>\n",
       "    </tr>\n",
       "  </thead>\n",
       "  <tbody>\n",
       "    <tr>\n",
       "      <th>0</th>\n",
       "      <td>2011-01-01 00:00:00</td>\n",
       "      <td>Spring</td>\n",
       "      <td>0</td>\n",
       "      <td>0</td>\n",
       "      <td>Clear</td>\n",
       "      <td>9.84</td>\n",
       "      <td>14.395</td>\n",
       "      <td>81</td>\n",
       "      <td>0.0</td>\n",
       "      <td>3</td>\n",
       "      <td>13</td>\n",
       "      <td>16</td>\n",
       "      <td>2011-01-01</td>\n",
       "      <td>2011</td>\n",
       "      <td>01</td>\n",
       "      <td>01</td>\n",
       "      <td>00</td>\n",
       "      <td>00</td>\n",
       "      <td>00</td>\n",
       "      <td>Saturday</td>\n",
       "    </tr>\n",
       "    <tr>\n",
       "      <th>1</th>\n",
       "      <td>2011-01-01 01:00:00</td>\n",
       "      <td>Spring</td>\n",
       "      <td>0</td>\n",
       "      <td>0</td>\n",
       "      <td>Clear</td>\n",
       "      <td>9.02</td>\n",
       "      <td>13.635</td>\n",
       "      <td>80</td>\n",
       "      <td>0.0</td>\n",
       "      <td>8</td>\n",
       "      <td>32</td>\n",
       "      <td>40</td>\n",
       "      <td>2011-01-01</td>\n",
       "      <td>2011</td>\n",
       "      <td>01</td>\n",
       "      <td>01</td>\n",
       "      <td>01</td>\n",
       "      <td>00</td>\n",
       "      <td>00</td>\n",
       "      <td>Saturday</td>\n",
       "    </tr>\n",
       "    <tr>\n",
       "      <th>2</th>\n",
       "      <td>2011-01-01 02:00:00</td>\n",
       "      <td>Spring</td>\n",
       "      <td>0</td>\n",
       "      <td>0</td>\n",
       "      <td>Clear</td>\n",
       "      <td>9.02</td>\n",
       "      <td>13.635</td>\n",
       "      <td>80</td>\n",
       "      <td>0.0</td>\n",
       "      <td>5</td>\n",
       "      <td>27</td>\n",
       "      <td>32</td>\n",
       "      <td>2011-01-01</td>\n",
       "      <td>2011</td>\n",
       "      <td>01</td>\n",
       "      <td>01</td>\n",
       "      <td>02</td>\n",
       "      <td>00</td>\n",
       "      <td>00</td>\n",
       "      <td>Saturday</td>\n",
       "    </tr>\n",
       "    <tr>\n",
       "      <th>3</th>\n",
       "      <td>2011-01-01 03:00:00</td>\n",
       "      <td>Spring</td>\n",
       "      <td>0</td>\n",
       "      <td>0</td>\n",
       "      <td>Clear</td>\n",
       "      <td>9.84</td>\n",
       "      <td>14.395</td>\n",
       "      <td>75</td>\n",
       "      <td>0.0</td>\n",
       "      <td>3</td>\n",
       "      <td>10</td>\n",
       "      <td>13</td>\n",
       "      <td>2011-01-01</td>\n",
       "      <td>2011</td>\n",
       "      <td>01</td>\n",
       "      <td>01</td>\n",
       "      <td>03</td>\n",
       "      <td>00</td>\n",
       "      <td>00</td>\n",
       "      <td>Saturday</td>\n",
       "    </tr>\n",
       "    <tr>\n",
       "      <th>4</th>\n",
       "      <td>2011-01-01 04:00:00</td>\n",
       "      <td>Spring</td>\n",
       "      <td>0</td>\n",
       "      <td>0</td>\n",
       "      <td>Clear</td>\n",
       "      <td>9.84</td>\n",
       "      <td>14.395</td>\n",
       "      <td>75</td>\n",
       "      <td>0.0</td>\n",
       "      <td>0</td>\n",
       "      <td>1</td>\n",
       "      <td>1</td>\n",
       "      <td>2011-01-01</td>\n",
       "      <td>2011</td>\n",
       "      <td>01</td>\n",
       "      <td>01</td>\n",
       "      <td>04</td>\n",
       "      <td>00</td>\n",
       "      <td>00</td>\n",
       "      <td>Saturday</td>\n",
       "    </tr>\n",
       "  </tbody>\n",
       "</table>\n",
       "</div>"
      ],
      "text/plain": [
       "              datetime  season  holiday  workingday weather  temp   atemp  \\\n",
       "0  2011-01-01 00:00:00  Spring        0           0   Clear  9.84  14.395   \n",
       "1  2011-01-01 01:00:00  Spring        0           0   Clear  9.02  13.635   \n",
       "2  2011-01-01 02:00:00  Spring        0           0   Clear  9.02  13.635   \n",
       "3  2011-01-01 03:00:00  Spring        0           0   Clear  9.84  14.395   \n",
       "4  2011-01-01 04:00:00  Spring        0           0   Clear  9.84  14.395   \n",
       "\n",
       "   humidity  windspeed  casual  registered  count        date  year month day  \\\n",
       "0        81        0.0       3          13     16  2011-01-01  2011    01  01   \n",
       "1        80        0.0       8          32     40  2011-01-01  2011    01  01   \n",
       "2        80        0.0       5          27     32  2011-01-01  2011    01  01   \n",
       "3        75        0.0       3          10     13  2011-01-01  2011    01  01   \n",
       "4        75        0.0       0           1      1  2011-01-01  2011    01  01   \n",
       "\n",
       "  hour minute second   weekday  \n",
       "0   00     00     00  Saturday  \n",
       "1   01     00     00  Saturday  \n",
       "2   02     00     00  Saturday  \n",
       "3   03     00     00  Saturday  \n",
       "4   04     00     00  Saturday  "
      ]
     },
     "execution_count": 17,
     "metadata": {},
     "output_type": "execute_result"
    }
   ],
   "source": [
    "train.head()"
   ]
  },
  {
   "cell_type": "markdown",
   "id": "516c549c",
   "metadata": {
    "papermill": {
     "duration": 0.017558,
     "end_time": "2022-07-16T07:54:52.397342",
     "exception": false,
     "start_time": "2022-07-16T07:54:52.379784",
     "status": "completed"
    },
    "tags": []
   },
   "source": [
    "#### 1.3 데이터 시각화"
   ]
  },
  {
   "cell_type": "code",
   "execution_count": 18,
   "id": "21856f9b",
   "metadata": {
    "execution": {
     "iopub.execute_input": "2022-07-16T07:54:52.433614Z",
     "iopub.status.busy": "2022-07-16T07:54:52.433266Z",
     "iopub.status.idle": "2022-07-16T07:54:53.480072Z",
     "shell.execute_reply": "2022-07-16T07:54:53.478933Z"
    },
    "papermill": {
     "duration": 1.06772,
     "end_time": "2022-07-16T07:54:53.482558",
     "exception": false,
     "start_time": "2022-07-16T07:54:52.414838",
     "status": "completed"
    },
    "tags": []
   },
   "outputs": [],
   "source": [
    "import seaborn as sns\n",
    "import matplotlib as mpl\n",
    "import matplotlib.pyplot as plt\n",
    "%matplotlib inline"
   ]
  },
  {
   "cell_type": "markdown",
   "id": "1f776529",
   "metadata": {
    "papermill": {
     "duration": 0.017425,
     "end_time": "2022-07-16T07:54:53.517784",
     "exception": false,
     "start_time": "2022-07-16T07:54:53.500359",
     "status": "completed"
    },
    "tags": []
   },
   "source": [
    "분포도"
   ]
  },
  {
   "cell_type": "code",
   "execution_count": 19,
   "id": "5b695724",
   "metadata": {
    "execution": {
     "iopub.execute_input": "2022-07-16T07:54:53.553878Z",
     "iopub.status.busy": "2022-07-16T07:54:53.553459Z",
     "iopub.status.idle": "2022-07-16T07:54:53.942423Z",
     "shell.execute_reply": "2022-07-16T07:54:53.941273Z"
    },
    "papermill": {
     "duration": 0.409907,
     "end_time": "2022-07-16T07:54:53.944781",
     "exception": false,
     "start_time": "2022-07-16T07:54:53.534874",
     "status": "completed"
    },
    "tags": []
   },
   "outputs": [
    {
     "data": {
      "image/png": "[encoded data removed]",
      "text/plain": [
       "<Figure size 360x360 with 1 Axes>"
      ]
     },
     "metadata": {
      "needs_background": "light"
     },
     "output_type": "display_data"
    }
   ],
   "source": [
    "mpl.rc('font', size = 15) # 폰트 크기를 15로 결정\n",
    "sns.displot(train['count']); # 분포도 출력"
   ]
  },
  {
   "cell_type": "code",
   "execution_count": 20,
   "id": "f310c17e",
   "metadata": {
    "execution": {
     "iopub.execute_input": "2022-07-16T07:54:53.982622Z",
     "iopub.status.busy": "2022-07-16T07:54:53.982241Z",
     "iopub.status.idle": "2022-07-16T07:54:54.292116Z",
     "shell.execute_reply": "2022-07-16T07:54:54.290979Z"
    },
    "papermill": {
     "duration": 0.332649,
     "end_time": "2022-07-16T07:54:54.295095",
     "exception": false,
     "start_time": "2022-07-16T07:54:53.962446",
     "status": "completed"
    },
    "tags": []
   },
   "outputs": [
    {
     "data": {
      "image/png": "[encoded data removed]",
      "text/plain": [
       "<Figure size 360x360 with 1 Axes>"
      ]
     },
     "metadata": {
      "needs_background": "light"
     },
     "output_type": "display_data"
    }
   ],
   "source": [
    "sns.displot(np.log(train['count']));"
   ]
  },
  {
   "cell_type": "markdown",
   "id": "abdb28de",
   "metadata": {
    "papermill": {
     "duration": 0.017308,
     "end_time": "2022-07-16T07:54:54.331419",
     "exception": false,
     "start_time": "2022-07-16T07:54:54.314111",
     "status": "completed"
    },
    "tags": []
   },
   "source": [
    "막대 그래프"
   ]
  },
  {
   "cell_type": "code",
   "execution_count": 21,
   "id": "60619cd0",
   "metadata": {
    "execution": {
     "iopub.execute_input": "2022-07-16T07:54:54.369754Z",
     "iopub.status.busy": "2022-07-16T07:54:54.369366Z",
     "iopub.status.idle": "2022-07-16T07:54:57.349408Z",
     "shell.execute_reply": "2022-07-16T07:54:57.348277Z"
    },
    "papermill": {
     "duration": 3.002248,
     "end_time": "2022-07-16T07:54:57.351821",
     "exception": false,
     "start_time": "2022-07-16T07:54:54.349573",
     "status": "completed"
    },
    "tags": []
   },
   "outputs": [
    {
     "data": {
      "image/png": "[encoded data removed]",
      "text/plain": [
       "<Figure size 720x648 with 6 Axes>"
      ]
     },
     "metadata": {
      "needs_background": "light"
     },
     "output_type": "display_data"
    }
   ],
   "source": [
    "# 스텝1 : m행 n열 Figure 준비\n",
    "mpl.rc('font', size=14) # 폰트 크기 설정\n",
    "mpl.rc('axes', titlesize=15) # 각 축의 제목 크기 설정\n",
    "figure, axes = plt.subplots(nrows=3, ncols=2) # 3행 2열 Figure 생성\n",
    "plt.tight_layout() #그래프 사이에 여백 확보\n",
    "figure.set_size_inches(10, 9) # 전체 Figure 크기를 10*9인치로 설정\n",
    "\n",
    "# 스텝2 : 각 축에 서브플롯 할당\n",
    "# 각 축에 연도, 월, 일, 시간, 분, 초별 평균 대여 수량 막대 그래프 할당\n",
    "sns.barplot(x='year', y='count', data=train, ax=axes[0, 0])\n",
    "sns.barplot(x='month', y='count', data=train, ax=axes[0, 1])\n",
    "sns.barplot(x='day', y='count', data=train, ax=axes[1, 0])\n",
    "sns.barplot(x='hour', y='count', data=train, ax=axes[1, 1])\n",
    "sns.barplot(x='minute', y='count', data=train, ax=axes[2, 0])\n",
    "sns.barplot(x='second', y='count', data=train, ax=axes[2, 1])\n",
    "\n",
    "# 스텝3 : 세부 설정\n",
    "# 3-1 : 서브플롯에 제목 달기\n",
    "axes[0, 0].set(title='Rental amounts by year')\n",
    "axes[0, 1].set(title='Rental amounts by month')\n",
    "axes[1, 0].set(title='Rental amounts by day')\n",
    "axes[1, 1].set(title='Rental amounts by hour')\n",
    "axes[2, 0].set(title='Rental amounts by minute')\n",
    "axes[2, 1].set(title='Rental amounts by second')\n",
    "\n",
    "# 3-2 : 1행에 위치한 서브플롯들의 x축 라벨 90도 회전\n",
    "axes[1, 0].tick_params(axis='x', labelrotation=90)\n",
    "axes[1, 1].tick_params(axis='x', labelrotation=90)"
   ]
  },
  {
   "cell_type": "markdown",
   "id": "149b077a",
   "metadata": {
    "papermill": {
     "duration": 0.01813,
     "end_time": "2022-07-16T07:54:57.388490",
     "exception": false,
     "start_time": "2022-07-16T07:54:57.370360",
     "status": "completed"
    },
    "tags": []
   },
   "source": [
    "박스플롯"
   ]
  },
  {
   "cell_type": "code",
   "execution_count": 22,
   "id": "6908e8a8",
   "metadata": {
    "execution": {
     "iopub.execute_input": "2022-07-16T07:54:57.427933Z",
     "iopub.status.busy": "2022-07-16T07:54:57.427300Z",
     "iopub.status.idle": "2022-07-16T07:54:58.022501Z",
     "shell.execute_reply": "2022-07-16T07:54:58.021466Z"
    },
    "papermill": {
     "duration": 0.618084,
     "end_time": "2022-07-16T07:54:58.024699",
     "exception": false,
     "start_time": "2022-07-16T07:54:57.406615",
     "status": "completed"
    },
    "tags": []
   },
   "outputs": [
    {
     "data": {
      "image/png": "[encoded data removed]",
      "text/plain": [
       "<Figure size 720x720 with 4 Axes>"
      ]
     },
     "metadata": {
      "needs_background": "light"
     },
     "output_type": "display_data"
    }
   ],
   "source": [
    "# 스텝 1 : m행 n열 Figure 준비\n",
    "figure, axes = plt.subplots(nrows=2, ncols=2) # 2행 2열\n",
    "plt.tight_layout()\n",
    "figure.set_size_inches(10, 10)\n",
    "\n",
    "# 스텝 2 : 서브플롯 할당\n",
    "# 계절, 날씨, 공휴일, 근무일별 대여 수량 박스플롯\n",
    "sns.boxplot(x='season', y='count', data=train, ax=axes[0, 0])\n",
    "sns.boxplot(x='weather', y='count', data=train, ax=axes[0, 1])\n",
    "sns.boxplot(x='holiday', y='count', data=train, ax=axes[1, 0])\n",
    "sns.boxplot(x='workingday', y='count', data=train, ax=axes[1, 1])\n",
    "\n",
    "# 스텝 3 : 세부 설정\n",
    "# 3-1 : 서브플롯에 제목 달기\n",
    "axes[0, 0].set(title='Box Plot On Count Across Season')\n",
    "axes[0, 1].set(title='Box Plot On Count Across Weather')\n",
    "axes[1, 0].set(title='Box Plot On Count Across Holiday')\n",
    "axes[1, 1].set(title='Box Plot On Count Across Working Day')\n",
    "\n",
    "# 3-2 : x축 라벨 겹침 해결\n",
    "axes[0, 1].tick_params('x', labelrotation = 10) # 10도 회전"
   ]
  },
  {
   "cell_type": "markdown",
   "id": "b53ef6d6",
   "metadata": {
    "papermill": {
     "duration": 0.019542,
     "end_time": "2022-07-16T07:54:58.063583",
     "exception": false,
     "start_time": "2022-07-16T07:54:58.044041",
     "status": "completed"
    },
    "tags": []
   },
   "source": [
    "포인트 플롯"
   ]
  },
  {
   "cell_type": "code",
   "execution_count": 23,
   "id": "58fe489e",
   "metadata": {
    "execution": {
     "iopub.execute_input": "2022-07-16T07:54:58.104826Z",
     "iopub.status.busy": "2022-07-16T07:54:58.104193Z",
     "iopub.status.idle": "2022-07-16T07:55:10.558667Z",
     "shell.execute_reply": "2022-07-16T07:55:10.557502Z"
    },
    "papermill": {
     "duration": 12.480331,
     "end_time": "2022-07-16T07:55:10.563005",
     "exception": false,
     "start_time": "2022-07-16T07:54:58.082674",
     "status": "completed"
    },
    "tags": []
   },
   "outputs": [
    {
     "data": {
      "text/plain": [
       "<AxesSubplot:xlabel='hour', ylabel='count'>"
      ]
     },
     "execution_count": 23,
     "metadata": {},
     "output_type": "execute_result"
    },
    {
     "data": {
      "image/png": "[encoded data removed]",
      "text/plain": [
       "<Figure size 864x1296 with 5 Axes>"
      ]
     },
     "metadata": {
      "needs_background": "light"
     },
     "output_type": "display_data"
    }
   ],
   "source": [
    "# 스텝 1 : m행 n열 Figure 준비\n",
    "mpl.rc('font', size=11)\n",
    "figure, axes = plt.subplots(nrows=5) # 5행 1열\n",
    "figure.set_size_inches(12, 18)\n",
    "\n",
    "# 스텝 2 : 서브플롯 할당\n",
    "# 근무일, 공휴일, 요일, 계절, 날씨에 따른 시간대별 평균 대여 수량 포인트 플롯\n",
    "\n",
    "sns.pointplot(x='hour', y ='count', data=train, hue='workingday', ax=axes[0])\n",
    "sns.pointplot(x='hour', y ='count', data=train, hue='holiday', ax=axes[1])\n",
    "sns.pointplot(x='hour', y ='count', data=train, hue='weekday', ax=axes[2])\n",
    "sns.pointplot(x='hour', y ='count', data=train, hue='season', ax=axes[3])\n",
    "sns.pointplot(x='hour', y ='count', data=train, hue='weather', ax=axes[4])"
   ]
  },
  {
   "cell_type": "markdown",
   "id": "6f00e5a4",
   "metadata": {
    "papermill": {
     "duration": 0.023482,
     "end_time": "2022-07-16T07:55:10.610517",
     "exception": false,
     "start_time": "2022-07-16T07:55:10.587035",
     "status": "completed"
    },
    "tags": []
   },
   "source": [
    "회귀선을 포함한 산점도 그래프"
   ]
  },
  {
   "cell_type": "code",
   "execution_count": 24,
   "id": "c53dd7c6",
   "metadata": {
    "execution": {
     "iopub.execute_input": "2022-07-16T07:55:10.659177Z",
     "iopub.status.busy": "2022-07-16T07:55:10.658811Z",
     "iopub.status.idle": "2022-07-16T07:55:13.693529Z",
     "shell.execute_reply": "2022-07-16T07:55:13.692160Z"
    },
    "papermill": {
     "duration": 3.062421,
     "end_time": "2022-07-16T07:55:13.696488",
     "exception": false,
     "start_time": "2022-07-16T07:55:10.634067",
     "status": "completed"
    },
    "tags": []
   },
   "outputs": [
    {
     "data": {
      "text/plain": [
       "<AxesSubplot:xlabel='humidity', ylabel='count'>"
      ]
     },
     "execution_count": 24,
     "metadata": {},
     "output_type": "execute_result"
    },
    {
     "data": {
      "image/png": "[encoded data removed]",
      "text/plain": [
       "<Figure size 504x432 with 4 Axes>"
      ]
     },
     "metadata": {
      "needs_background": "light"
     },
     "output_type": "display_data"
    }
   ],
   "source": [
    "# 스텝 1 : m행 n열 Figure 준비\n",
    "mpl.rc('font', size=15)\n",
    "figure, axes = plt.subplots(nrows=2, ncols=2) # 2행 2열\n",
    "plt.tight_layout()\n",
    "figure.set_size_inches(7, 6)\n",
    "\n",
    "# 스텝 2 : 서브플롯 할당\n",
    "# 온도, 체감 온도, 풍속, 습도 별 대여 수량 산점도 그래프\n",
    "sns.regplot(x='temp', y='count', data=train, ax=axes[0, 0], scatter_kws={'alpha' : 0.2}, line_kws={'color': 'blue'})\n",
    "sns.regplot(x='atemp', y='count', data=train, ax=axes[0, 1], scatter_kws={'alpha' : 0.2}, line_kws={'color': 'blue'})\n",
    "sns.regplot(x='windspeed', y='count', data=train, ax=axes[1, 0], scatter_kws={'alpha' : 0.2}, line_kws={'color': 'blue'})\n",
    "sns.regplot(x='humidity', y='count', data=train, ax=axes[1, 1], scatter_kws={'alpha' : 0.2}, line_kws={'color': 'blue'})"
   ]
  },
  {
   "cell_type": "markdown",
   "id": "f74c937c",
   "metadata": {
    "papermill": {
     "duration": 0.031468,
     "end_time": "2022-07-16T07:55:13.760211",
     "exception": false,
     "start_time": "2022-07-16T07:55:13.728743",
     "status": "completed"
    },
    "tags": []
   },
   "source": [
    "히트맵"
   ]
  },
  {
   "cell_type": "code",
   "execution_count": 25,
   "id": "0843bcd8",
   "metadata": {
    "execution": {
     "iopub.execute_input": "2022-07-16T07:55:13.822359Z",
     "iopub.status.busy": "2022-07-16T07:55:13.821593Z",
     "iopub.status.idle": "2022-07-16T07:55:13.840268Z",
     "shell.execute_reply": "2022-07-16T07:55:13.839076Z"
    },
    "papermill": {
     "duration": 0.049857,
     "end_time": "2022-07-16T07:55:13.842511",
     "exception": false,
     "start_time": "2022-07-16T07:55:13.792654",
     "status": "completed"
    },
    "tags": []
   },
   "outputs": [
    {
     "data": {
      "text/html": [
       "<div>\n",
       "<style scoped>\n",
       "    .dataframe tbody tr th:only-of-type {\n",
       "        vertical-align: middle;\n",
       "    }\n",
       "\n",
       "    .dataframe tbody tr th {\n",
       "        vertical-align: top;\n",
       "    }\n",
       "\n",
       "    .dataframe thead th {\n",
       "        text-align: right;\n",
       "    }\n",
       "</style>\n",
       "<table border=\"1\" class=\"dataframe\">\n",
       "  <thead>\n",
       "    <tr style=\"text-align: right;\">\n",
       "      <th></th>\n",
       "      <th>temp</th>\n",
       "      <th>atemp</th>\n",
       "      <th>humidity</th>\n",
       "      <th>windspeed</th>\n",
       "      <th>count</th>\n",
       "    </tr>\n",
       "  </thead>\n",
       "  <tbody>\n",
       "    <tr>\n",
       "      <th>temp</th>\n",
       "      <td>1.000000</td>\n",
       "      <td>0.984948</td>\n",
       "      <td>-0.064949</td>\n",
       "      <td>-0.017852</td>\n",
       "      <td>0.394454</td>\n",
       "    </tr>\n",
       "    <tr>\n",
       "      <th>atemp</th>\n",
       "      <td>0.984948</td>\n",
       "      <td>1.000000</td>\n",
       "      <td>-0.043536</td>\n",
       "      <td>-0.057473</td>\n",
       "      <td>0.389784</td>\n",
       "    </tr>\n",
       "    <tr>\n",
       "      <th>humidity</th>\n",
       "      <td>-0.064949</td>\n",
       "      <td>-0.043536</td>\n",
       "      <td>1.000000</td>\n",
       "      <td>-0.318607</td>\n",
       "      <td>-0.317371</td>\n",
       "    </tr>\n",
       "    <tr>\n",
       "      <th>windspeed</th>\n",
       "      <td>-0.017852</td>\n",
       "      <td>-0.057473</td>\n",
       "      <td>-0.318607</td>\n",
       "      <td>1.000000</td>\n",
       "      <td>0.101369</td>\n",
       "    </tr>\n",
       "    <tr>\n",
       "      <th>count</th>\n",
       "      <td>0.394454</td>\n",
       "      <td>0.389784</td>\n",
       "      <td>-0.317371</td>\n",
       "      <td>0.101369</td>\n",
       "      <td>1.000000</td>\n",
       "    </tr>\n",
       "  </tbody>\n",
       "</table>\n",
       "</div>"
      ],
      "text/plain": [
       "               temp     atemp  humidity  windspeed     count\n",
       "temp       1.000000  0.984948 -0.064949  -0.017852  0.394454\n",
       "atemp      0.984948  1.000000 -0.043536  -0.057473  0.389784\n",
       "humidity  -0.064949 -0.043536  1.000000  -0.318607 -0.317371\n",
       "windspeed -0.017852 -0.057473 -0.318607   1.000000  0.101369\n",
       "count      0.394454  0.389784 -0.317371   0.101369  1.000000"
      ]
     },
     "execution_count": 25,
     "metadata": {},
     "output_type": "execute_result"
    }
   ],
   "source": [
    "train[['temp', 'atemp', 'humidity', 'windspeed', 'count']].corr()"
   ]
  },
  {
   "cell_type": "code",
   "execution_count": 26,
   "id": "d5c4edac",
   "metadata": {
    "execution": {
     "iopub.execute_input": "2022-07-16T07:55:13.895080Z",
     "iopub.status.busy": "2022-07-16T07:55:13.894389Z",
     "iopub.status.idle": "2022-07-16T07:55:14.210411Z",
     "shell.execute_reply": "2022-07-16T07:55:14.209267Z"
    },
    "papermill": {
     "duration": 0.345556,
     "end_time": "2022-07-16T07:55:14.213111",
     "exception": false,
     "start_time": "2022-07-16T07:55:13.867555",
     "status": "completed"
    },
    "tags": []
   },
   "outputs": [
    {
     "data": {
      "text/plain": [
       "[Text(0.5, 1.0, 'Heatmap of Numerical Data')]"
      ]
     },
     "execution_count": 26,
     "metadata": {},
     "output_type": "execute_result"
    },
    {
     "data": {
      "image/png": "[encoded data removed]",
      "text/plain": [
       "<Figure size 720x720 with 2 Axes>"
      ]
     },
     "metadata": {
      "needs_background": "light"
     },
     "output_type": "display_data"
    }
   ],
   "source": [
    "# 피쳐 간 상관관계 매트릭스\n",
    "\n",
    "corrMat = train[['temp', 'atemp', 'humidity', 'windspeed', 'count']].corr()\n",
    "fig, ax=plt.subplots()\n",
    "fig.set_size_inches(10, 10)\n",
    "sns.heatmap(corrMat, annot=True) # 상관관계 히트맵 그리기\n",
    "ax.set(title='Heatmap of Numerical Data')"
   ]
  },
  {
   "cell_type": "markdown",
   "id": "a78b508f",
   "metadata": {
    "papermill": {
     "duration": 0.026473,
     "end_time": "2022-07-16T07:55:14.265806",
     "exception": false,
     "start_time": "2022-07-16T07:55:14.239333",
     "status": "completed"
    },
    "tags": []
   },
   "source": [
    "# 자전거 대여 수요 예측 경진대회 베이스라인 모델\n",
    "\n",
    "#### 메뉴:[Run] -> [Stop Session]후 여기서부터 실행 권장.(필수아님)"
   ]
  },
  {
   "cell_type": "code",
   "execution_count": 27,
   "id": "e5fcb5b5",
   "metadata": {
    "execution": {
     "iopub.execute_input": "2022-07-16T07:55:14.320451Z",
     "iopub.status.busy": "2022-07-16T07:55:14.319666Z",
     "iopub.status.idle": "2022-07-16T07:55:14.362118Z",
     "shell.execute_reply": "2022-07-16T07:55:14.360957Z"
    },
    "papermill": {
     "duration": 0.072532,
     "end_time": "2022-07-16T07:55:14.364580",
     "exception": false,
     "start_time": "2022-07-16T07:55:14.292048",
     "status": "completed"
    },
    "tags": []
   },
   "outputs": [],
   "source": [
    "import pandas as pd\n",
    "# 데이터 경로\n",
    "data_path = '/kaggle/input/bikesharingdemand/'\n",
    "\n",
    "train = pd.read_csv(data_path + 'train.csv')\n",
    "test = pd.read_csv(data_path + 'test.csv')\n",
    "submission = pd.read_csv(data_path + 'sampleSubmission.csv')"
   ]
  },
  {
   "cell_type": "markdown",
   "id": "d01568d0",
   "metadata": {
    "papermill": {
     "duration": 0.026876,
     "end_time": "2022-07-16T07:55:14.418404",
     "exception": false,
     "start_time": "2022-07-16T07:55:14.391528",
     "status": "completed"
    },
    "tags": []
   },
   "source": [
    "#### 2.1 피처 엔지니어링"
   ]
  },
  {
   "cell_type": "markdown",
   "id": "045d22e9",
   "metadata": {
    "papermill": {
     "duration": 0.02676,
     "end_time": "2022-07-16T07:55:14.471270",
     "exception": false,
     "start_time": "2022-07-16T07:55:14.444510",
     "status": "completed"
    },
    "tags": []
   },
   "source": [
    "이상치 제거"
   ]
  },
  {
   "cell_type": "code",
   "execution_count": 28,
   "id": "3cdbe19c",
   "metadata": {
    "execution": {
     "iopub.execute_input": "2022-07-16T07:55:14.526668Z",
     "iopub.status.busy": "2022-07-16T07:55:14.525942Z",
     "iopub.status.idle": "2022-07-16T07:55:14.532586Z",
     "shell.execute_reply": "2022-07-16T07:55:14.531733Z"
    },
    "papermill": {
     "duration": 0.036744,
     "end_time": "2022-07-16T07:55:14.534934",
     "exception": false,
     "start_time": "2022-07-16T07:55:14.498190",
     "status": "completed"
    },
    "tags": []
   },
   "outputs": [],
   "source": [
    "# 훈련 데이터에서 weather가 4가 아닌 데이터만 추출\n",
    "\n",
    "train = train[train['weather'] != 4]\n"
   ]
  },
  {
   "cell_type": "markdown",
   "id": "ca47867b",
   "metadata": {
    "papermill": {
     "duration": 0.025697,
     "end_time": "2022-07-16T07:55:14.586793",
     "exception": false,
     "start_time": "2022-07-16T07:55:14.561096",
     "status": "completed"
    },
    "tags": []
   },
   "source": [
    "데이터 합치기"
   ]
  },
  {
   "cell_type": "code",
   "execution_count": 29,
   "id": "3f35ab41",
   "metadata": {
    "execution": {
     "iopub.execute_input": "2022-07-16T07:55:14.643646Z",
     "iopub.status.busy": "2022-07-16T07:55:14.642944Z",
     "iopub.status.idle": "2022-07-16T07:55:14.667179Z",
     "shell.execute_reply": "2022-07-16T07:55:14.665959Z"
    },
    "papermill": {
     "duration": 0.055543,
     "end_time": "2022-07-16T07:55:14.669344",
     "exception": false,
     "start_time": "2022-07-16T07:55:14.613801",
     "status": "completed"
    },
    "tags": []
   },
   "outputs": [
    {
     "data": {
      "text/html": [
       "<div>\n",
       "<style scoped>\n",
       "    .dataframe tbody tr th:only-of-type {\n",
       "        vertical-align: middle;\n",
       "    }\n",
       "\n",
       "    .dataframe tbody tr th {\n",
       "        vertical-align: top;\n",
       "    }\n",
       "\n",
       "    .dataframe thead th {\n",
       "        text-align: right;\n",
       "    }\n",
       "</style>\n",
       "<table border=\"1\" class=\"dataframe\">\n",
       "  <thead>\n",
       "    <tr style=\"text-align: right;\">\n",
       "      <th></th>\n",
       "      <th>datetime</th>\n",
       "      <th>season</th>\n",
       "      <th>holiday</th>\n",
       "      <th>workingday</th>\n",
       "      <th>weather</th>\n",
       "      <th>temp</th>\n",
       "      <th>atemp</th>\n",
       "      <th>humidity</th>\n",
       "      <th>windspeed</th>\n",
       "      <th>casual</th>\n",
       "      <th>registered</th>\n",
       "      <th>count</th>\n",
       "    </tr>\n",
       "  </thead>\n",
       "  <tbody>\n",
       "    <tr>\n",
       "      <th>0</th>\n",
       "      <td>2011-01-01 00:00:00</td>\n",
       "      <td>1</td>\n",
       "      <td>0</td>\n",
       "      <td>0</td>\n",
       "      <td>1</td>\n",
       "      <td>9.84</td>\n",
       "      <td>14.395</td>\n",
       "      <td>81</td>\n",
       "      <td>0.0000</td>\n",
       "      <td>3.0</td>\n",
       "      <td>13.0</td>\n",
       "      <td>16.0</td>\n",
       "    </tr>\n",
       "    <tr>\n",
       "      <th>1</th>\n",
       "      <td>2011-01-01 01:00:00</td>\n",
       "      <td>1</td>\n",
       "      <td>0</td>\n",
       "      <td>0</td>\n",
       "      <td>1</td>\n",
       "      <td>9.02</td>\n",
       "      <td>13.635</td>\n",
       "      <td>80</td>\n",
       "      <td>0.0000</td>\n",
       "      <td>8.0</td>\n",
       "      <td>32.0</td>\n",
       "      <td>40.0</td>\n",
       "    </tr>\n",
       "    <tr>\n",
       "      <th>2</th>\n",
       "      <td>2011-01-01 02:00:00</td>\n",
       "      <td>1</td>\n",
       "      <td>0</td>\n",
       "      <td>0</td>\n",
       "      <td>1</td>\n",
       "      <td>9.02</td>\n",
       "      <td>13.635</td>\n",
       "      <td>80</td>\n",
       "      <td>0.0000</td>\n",
       "      <td>5.0</td>\n",
       "      <td>27.0</td>\n",
       "      <td>32.0</td>\n",
       "    </tr>\n",
       "    <tr>\n",
       "      <th>3</th>\n",
       "      <td>2011-01-01 03:00:00</td>\n",
       "      <td>1</td>\n",
       "      <td>0</td>\n",
       "      <td>0</td>\n",
       "      <td>1</td>\n",
       "      <td>9.84</td>\n",
       "      <td>14.395</td>\n",
       "      <td>75</td>\n",
       "      <td>0.0000</td>\n",
       "      <td>3.0</td>\n",
       "      <td>10.0</td>\n",
       "      <td>13.0</td>\n",
       "    </tr>\n",
       "    <tr>\n",
       "      <th>4</th>\n",
       "      <td>2011-01-01 04:00:00</td>\n",
       "      <td>1</td>\n",
       "      <td>0</td>\n",
       "      <td>0</td>\n",
       "      <td>1</td>\n",
       "      <td>9.84</td>\n",
       "      <td>14.395</td>\n",
       "      <td>75</td>\n",
       "      <td>0.0000</td>\n",
       "      <td>0.0</td>\n",
       "      <td>1.0</td>\n",
       "      <td>1.0</td>\n",
       "    </tr>\n",
       "    <tr>\n",
       "      <th>...</th>\n",
       "      <td>...</td>\n",
       "      <td>...</td>\n",
       "      <td>...</td>\n",
       "      <td>...</td>\n",
       "      <td>...</td>\n",
       "      <td>...</td>\n",
       "      <td>...</td>\n",
       "      <td>...</td>\n",
       "      <td>...</td>\n",
       "      <td>...</td>\n",
       "      <td>...</td>\n",
       "      <td>...</td>\n",
       "    </tr>\n",
       "    <tr>\n",
       "      <th>6488</th>\n",
       "      <td>2012-12-31 19:00:00</td>\n",
       "      <td>1</td>\n",
       "      <td>0</td>\n",
       "      <td>1</td>\n",
       "      <td>2</td>\n",
       "      <td>10.66</td>\n",
       "      <td>12.880</td>\n",
       "      <td>60</td>\n",
       "      <td>11.0014</td>\n",
       "      <td>NaN</td>\n",
       "      <td>NaN</td>\n",
       "      <td>NaN</td>\n",
       "    </tr>\n",
       "    <tr>\n",
       "      <th>6489</th>\n",
       "      <td>2012-12-31 20:00:00</td>\n",
       "      <td>1</td>\n",
       "      <td>0</td>\n",
       "      <td>1</td>\n",
       "      <td>2</td>\n",
       "      <td>10.66</td>\n",
       "      <td>12.880</td>\n",
       "      <td>60</td>\n",
       "      <td>11.0014</td>\n",
       "      <td>NaN</td>\n",
       "      <td>NaN</td>\n",
       "      <td>NaN</td>\n",
       "    </tr>\n",
       "    <tr>\n",
       "      <th>6490</th>\n",
       "      <td>2012-12-31 21:00:00</td>\n",
       "      <td>1</td>\n",
       "      <td>0</td>\n",
       "      <td>1</td>\n",
       "      <td>1</td>\n",
       "      <td>10.66</td>\n",
       "      <td>12.880</td>\n",
       "      <td>60</td>\n",
       "      <td>11.0014</td>\n",
       "      <td>NaN</td>\n",
       "      <td>NaN</td>\n",
       "      <td>NaN</td>\n",
       "    </tr>\n",
       "    <tr>\n",
       "      <th>6491</th>\n",
       "      <td>2012-12-31 22:00:00</td>\n",
       "      <td>1</td>\n",
       "      <td>0</td>\n",
       "      <td>1</td>\n",
       "      <td>1</td>\n",
       "      <td>10.66</td>\n",
       "      <td>13.635</td>\n",
       "      <td>56</td>\n",
       "      <td>8.9981</td>\n",
       "      <td>NaN</td>\n",
       "      <td>NaN</td>\n",
       "      <td>NaN</td>\n",
       "    </tr>\n",
       "    <tr>\n",
       "      <th>6492</th>\n",
       "      <td>2012-12-31 23:00:00</td>\n",
       "      <td>1</td>\n",
       "      <td>0</td>\n",
       "      <td>1</td>\n",
       "      <td>1</td>\n",
       "      <td>10.66</td>\n",
       "      <td>13.635</td>\n",
       "      <td>65</td>\n",
       "      <td>8.9981</td>\n",
       "      <td>NaN</td>\n",
       "      <td>NaN</td>\n",
       "      <td>NaN</td>\n",
       "    </tr>\n",
       "  </tbody>\n",
       "</table>\n",
       "<p>17378 rows × 12 columns</p>\n",
       "</div>"
      ],
      "text/plain": [
       "                 datetime  season  holiday  workingday  weather   temp  \\\n",
       "0     2011-01-01 00:00:00       1        0           0        1   9.84   \n",
       "1     2011-01-01 01:00:00       1        0           0        1   9.02   \n",
       "2     2011-01-01 02:00:00       1        0           0        1   9.02   \n",
       "3     2011-01-01 03:00:00       1        0           0        1   9.84   \n",
       "4     2011-01-01 04:00:00       1        0           0        1   9.84   \n",
       "...                   ...     ...      ...         ...      ...    ...   \n",
       "6488  2012-12-31 19:00:00       1        0           1        2  10.66   \n",
       "6489  2012-12-31 20:00:00       1        0           1        2  10.66   \n",
       "6490  2012-12-31 21:00:00       1        0           1        1  10.66   \n",
       "6491  2012-12-31 22:00:00       1        0           1        1  10.66   \n",
       "6492  2012-12-31 23:00:00       1        0           1        1  10.66   \n",
       "\n",
       "       atemp  humidity  windspeed  casual  registered  count  \n",
       "0     14.395        81     0.0000     3.0        13.0   16.0  \n",
       "1     13.635        80     0.0000     8.0        32.0   40.0  \n",
       "2     13.635        80     0.0000     5.0        27.0   32.0  \n",
       "3     14.395        75     0.0000     3.0        10.0   13.0  \n",
       "4     14.395        75     0.0000     0.0         1.0    1.0  \n",
       "...      ...       ...        ...     ...         ...    ...  \n",
       "6488  12.880        60    11.0014     NaN         NaN    NaN  \n",
       "6489  12.880        60    11.0014     NaN         NaN    NaN  \n",
       "6490  12.880        60    11.0014     NaN         NaN    NaN  \n",
       "6491  13.635        56     8.9981     NaN         NaN    NaN  \n",
       "6492  13.635        65     8.9981     NaN         NaN    NaN  \n",
       "\n",
       "[17378 rows x 12 columns]"
      ]
     },
     "execution_count": 29,
     "metadata": {},
     "output_type": "execute_result"
    }
   ],
   "source": [
    "all_data_temp = pd.concat([train, test])\n",
    "all_data_temp"
   ]
  },
  {
   "cell_type": "code",
   "execution_count": 30,
   "id": "109514ce",
   "metadata": {
    "execution": {
     "iopub.execute_input": "2022-07-16T07:55:14.725029Z",
     "iopub.status.busy": "2022-07-16T07:55:14.724356Z",
     "iopub.status.idle": "2022-07-16T07:55:14.748699Z",
     "shell.execute_reply": "2022-07-16T07:55:14.747454Z"
    },
    "papermill": {
     "duration": 0.055289,
     "end_time": "2022-07-16T07:55:14.750986",
     "exception": false,
     "start_time": "2022-07-16T07:55:14.695697",
     "status": "completed"
    },
    "tags": []
   },
   "outputs": [
    {
     "data": {
      "text/html": [
       "<div>\n",
       "<style scoped>\n",
       "    .dataframe tbody tr th:only-of-type {\n",
       "        vertical-align: middle;\n",
       "    }\n",
       "\n",
       "    .dataframe tbody tr th {\n",
       "        vertical-align: top;\n",
       "    }\n",
       "\n",
       "    .dataframe thead th {\n",
       "        text-align: right;\n",
       "    }\n",
       "</style>\n",
       "<table border=\"1\" class=\"dataframe\">\n",
       "  <thead>\n",
       "    <tr style=\"text-align: right;\">\n",
       "      <th></th>\n",
       "      <th>datetime</th>\n",
       "      <th>season</th>\n",
       "      <th>holiday</th>\n",
       "      <th>workingday</th>\n",
       "      <th>weather</th>\n",
       "      <th>temp</th>\n",
       "      <th>atemp</th>\n",
       "      <th>humidity</th>\n",
       "      <th>windspeed</th>\n",
       "      <th>casual</th>\n",
       "      <th>registered</th>\n",
       "      <th>count</th>\n",
       "    </tr>\n",
       "  </thead>\n",
       "  <tbody>\n",
       "    <tr>\n",
       "      <th>0</th>\n",
       "      <td>2011-01-01 00:00:00</td>\n",
       "      <td>1</td>\n",
       "      <td>0</td>\n",
       "      <td>0</td>\n",
       "      <td>1</td>\n",
       "      <td>9.84</td>\n",
       "      <td>14.395</td>\n",
       "      <td>81</td>\n",
       "      <td>0.0000</td>\n",
       "      <td>3.0</td>\n",
       "      <td>13.0</td>\n",
       "      <td>16.0</td>\n",
       "    </tr>\n",
       "    <tr>\n",
       "      <th>1</th>\n",
       "      <td>2011-01-01 01:00:00</td>\n",
       "      <td>1</td>\n",
       "      <td>0</td>\n",
       "      <td>0</td>\n",
       "      <td>1</td>\n",
       "      <td>9.02</td>\n",
       "      <td>13.635</td>\n",
       "      <td>80</td>\n",
       "      <td>0.0000</td>\n",
       "      <td>8.0</td>\n",
       "      <td>32.0</td>\n",
       "      <td>40.0</td>\n",
       "    </tr>\n",
       "    <tr>\n",
       "      <th>2</th>\n",
       "      <td>2011-01-01 02:00:00</td>\n",
       "      <td>1</td>\n",
       "      <td>0</td>\n",
       "      <td>0</td>\n",
       "      <td>1</td>\n",
       "      <td>9.02</td>\n",
       "      <td>13.635</td>\n",
       "      <td>80</td>\n",
       "      <td>0.0000</td>\n",
       "      <td>5.0</td>\n",
       "      <td>27.0</td>\n",
       "      <td>32.0</td>\n",
       "    </tr>\n",
       "    <tr>\n",
       "      <th>3</th>\n",
       "      <td>2011-01-01 03:00:00</td>\n",
       "      <td>1</td>\n",
       "      <td>0</td>\n",
       "      <td>0</td>\n",
       "      <td>1</td>\n",
       "      <td>9.84</td>\n",
       "      <td>14.395</td>\n",
       "      <td>75</td>\n",
       "      <td>0.0000</td>\n",
       "      <td>3.0</td>\n",
       "      <td>10.0</td>\n",
       "      <td>13.0</td>\n",
       "    </tr>\n",
       "    <tr>\n",
       "      <th>4</th>\n",
       "      <td>2011-01-01 04:00:00</td>\n",
       "      <td>1</td>\n",
       "      <td>0</td>\n",
       "      <td>0</td>\n",
       "      <td>1</td>\n",
       "      <td>9.84</td>\n",
       "      <td>14.395</td>\n",
       "      <td>75</td>\n",
       "      <td>0.0000</td>\n",
       "      <td>0.0</td>\n",
       "      <td>1.0</td>\n",
       "      <td>1.0</td>\n",
       "    </tr>\n",
       "    <tr>\n",
       "      <th>...</th>\n",
       "      <td>...</td>\n",
       "      <td>...</td>\n",
       "      <td>...</td>\n",
       "      <td>...</td>\n",
       "      <td>...</td>\n",
       "      <td>...</td>\n",
       "      <td>...</td>\n",
       "      <td>...</td>\n",
       "      <td>...</td>\n",
       "      <td>...</td>\n",
       "      <td>...</td>\n",
       "      <td>...</td>\n",
       "    </tr>\n",
       "    <tr>\n",
       "      <th>17373</th>\n",
       "      <td>2012-12-31 19:00:00</td>\n",
       "      <td>1</td>\n",
       "      <td>0</td>\n",
       "      <td>1</td>\n",
       "      <td>2</td>\n",
       "      <td>10.66</td>\n",
       "      <td>12.880</td>\n",
       "      <td>60</td>\n",
       "      <td>11.0014</td>\n",
       "      <td>NaN</td>\n",
       "      <td>NaN</td>\n",
       "      <td>NaN</td>\n",
       "    </tr>\n",
       "    <tr>\n",
       "      <th>17374</th>\n",
       "      <td>2012-12-31 20:00:00</td>\n",
       "      <td>1</td>\n",
       "      <td>0</td>\n",
       "      <td>1</td>\n",
       "      <td>2</td>\n",
       "      <td>10.66</td>\n",
       "      <td>12.880</td>\n",
       "      <td>60</td>\n",
       "      <td>11.0014</td>\n",
       "      <td>NaN</td>\n",
       "      <td>NaN</td>\n",
       "      <td>NaN</td>\n",
       "    </tr>\n",
       "    <tr>\n",
       "      <th>17375</th>\n",
       "      <td>2012-12-31 21:00:00</td>\n",
       "      <td>1</td>\n",
       "      <td>0</td>\n",
       "      <td>1</td>\n",
       "      <td>1</td>\n",
       "      <td>10.66</td>\n",
       "      <td>12.880</td>\n",
       "      <td>60</td>\n",
       "      <td>11.0014</td>\n",
       "      <td>NaN</td>\n",
       "      <td>NaN</td>\n",
       "      <td>NaN</td>\n",
       "    </tr>\n",
       "    <tr>\n",
       "      <th>17376</th>\n",
       "      <td>2012-12-31 22:00:00</td>\n",
       "      <td>1</td>\n",
       "      <td>0</td>\n",
       "      <td>1</td>\n",
       "      <td>1</td>\n",
       "      <td>10.66</td>\n",
       "      <td>13.635</td>\n",
       "      <td>56</td>\n",
       "      <td>8.9981</td>\n",
       "      <td>NaN</td>\n",
       "      <td>NaN</td>\n",
       "      <td>NaN</td>\n",
       "    </tr>\n",
       "    <tr>\n",
       "      <th>17377</th>\n",
       "      <td>2012-12-31 23:00:00</td>\n",
       "      <td>1</td>\n",
       "      <td>0</td>\n",
       "      <td>1</td>\n",
       "      <td>1</td>\n",
       "      <td>10.66</td>\n",
       "      <td>13.635</td>\n",
       "      <td>65</td>\n",
       "      <td>8.9981</td>\n",
       "      <td>NaN</td>\n",
       "      <td>NaN</td>\n",
       "      <td>NaN</td>\n",
       "    </tr>\n",
       "  </tbody>\n",
       "</table>\n",
       "<p>17378 rows × 12 columns</p>\n",
       "</div>"
      ],
      "text/plain": [
       "                  datetime  season  holiday  workingday  weather   temp  \\\n",
       "0      2011-01-01 00:00:00       1        0           0        1   9.84   \n",
       "1      2011-01-01 01:00:00       1        0           0        1   9.02   \n",
       "2      2011-01-01 02:00:00       1        0           0        1   9.02   \n",
       "3      2011-01-01 03:00:00       1        0           0        1   9.84   \n",
       "4      2011-01-01 04:00:00       1        0           0        1   9.84   \n",
       "...                    ...     ...      ...         ...      ...    ...   \n",
       "17373  2012-12-31 19:00:00       1        0           1        2  10.66   \n",
       "17374  2012-12-31 20:00:00       1        0           1        2  10.66   \n",
       "17375  2012-12-31 21:00:00       1        0           1        1  10.66   \n",
       "17376  2012-12-31 22:00:00       1        0           1        1  10.66   \n",
       "17377  2012-12-31 23:00:00       1        0           1        1  10.66   \n",
       "\n",
       "        atemp  humidity  windspeed  casual  registered  count  \n",
       "0      14.395        81     0.0000     3.0        13.0   16.0  \n",
       "1      13.635        80     0.0000     8.0        32.0   40.0  \n",
       "2      13.635        80     0.0000     5.0        27.0   32.0  \n",
       "3      14.395        75     0.0000     3.0        10.0   13.0  \n",
       "4      14.395        75     0.0000     0.0         1.0    1.0  \n",
       "...       ...       ...        ...     ...         ...    ...  \n",
       "17373  12.880        60    11.0014     NaN         NaN    NaN  \n",
       "17374  12.880        60    11.0014     NaN         NaN    NaN  \n",
       "17375  12.880        60    11.0014     NaN         NaN    NaN  \n",
       "17376  13.635        56     8.9981     NaN         NaN    NaN  \n",
       "17377  13.635        65     8.9981     NaN         NaN    NaN  \n",
       "\n",
       "[17378 rows x 12 columns]"
      ]
     },
     "execution_count": 30,
     "metadata": {},
     "output_type": "execute_result"
    }
   ],
   "source": [
    "all_data = pd.concat([train, test], ignore_index=True)\n",
    "all_data"
   ]
  },
  {
   "cell_type": "markdown",
   "id": "368b32c1",
   "metadata": {
    "papermill": {
     "duration": 0.027146,
     "end_time": "2022-07-16T07:55:14.805350",
     "exception": false,
     "start_time": "2022-07-16T07:55:14.778204",
     "status": "completed"
    },
    "tags": []
   },
   "source": [
    "파생 변수(피처)추가"
   ]
  },
  {
   "cell_type": "code",
   "execution_count": 31,
   "id": "143c1738",
   "metadata": {
    "execution": {
     "iopub.execute_input": "2022-07-16T07:55:14.866660Z",
     "iopub.status.busy": "2022-07-16T07:55:14.866304Z",
     "iopub.status.idle": "2022-07-16T07:55:15.056072Z",
     "shell.execute_reply": "2022-07-16T07:55:15.054740Z"
    },
    "papermill": {
     "duration": 0.226649,
     "end_time": "2022-07-16T07:55:15.058751",
     "exception": false,
     "start_time": "2022-07-16T07:55:14.832102",
     "status": "completed"
    },
    "tags": []
   },
   "outputs": [],
   "source": [
    "from datetime import datetime\n",
    "\n",
    "# 날짜 피처 생성\n",
    "all_data['date'] = all_data['datetime'].apply(lambda x: x.split()[0])\n",
    "# 연도 피처 생성\n",
    "all_data['year'] = all_data['datetime'].apply(lambda x: x.split()[0].split('-')[0])\n",
    "# 월 피처 생성\n",
    "all_data['month'] = all_data['datetime'].apply(lambda x: x.split()[0].split('-')[1])\n",
    "# 시 피처 생성\n",
    "all_data['hour'] = all_data['datetime'].apply(lambda x: x.split()[1].split(':')[0])\n",
    "# 요일 피처 생성\n",
    "all_data[\"weekday\"] = all_data['date'].apply(lambda dateString : datetime.strptime(dateString,\"%Y-%m-%d\").weekday())"
   ]
  },
  {
   "cell_type": "markdown",
   "id": "1966f03d",
   "metadata": {
    "papermill": {
     "duration": 0.027263,
     "end_time": "2022-07-16T07:55:15.113321",
     "exception": false,
     "start_time": "2022-07-16T07:55:15.086058",
     "status": "completed"
    },
    "tags": []
   },
   "source": [
    "필요 없는 피처 제거"
   ]
  },
  {
   "cell_type": "code",
   "execution_count": 32,
   "id": "74264749",
   "metadata": {
    "execution": {
     "iopub.execute_input": "2022-07-16T07:55:15.169422Z",
     "iopub.status.busy": "2022-07-16T07:55:15.168822Z",
     "iopub.status.idle": "2022-07-16T07:55:15.178987Z",
     "shell.execute_reply": "2022-07-16T07:55:15.178137Z"
    },
    "papermill": {
     "duration": 0.040515,
     "end_time": "2022-07-16T07:55:15.181046",
     "exception": false,
     "start_time": "2022-07-16T07:55:15.140531",
     "status": "completed"
    },
    "tags": []
   },
   "outputs": [],
   "source": [
    "drop_features = ['casual', 'registered', 'datetime', 'date', 'windspeed', 'month']\n",
    "\n",
    "all_data = all_data.drop(drop_features, axis=1)"
   ]
  },
  {
   "cell_type": "markdown",
   "id": "f0189ea5",
   "metadata": {
    "papermill": {
     "duration": 0.026713,
     "end_time": "2022-07-16T07:55:15.234276",
     "exception": false,
     "start_time": "2022-07-16T07:55:15.207563",
     "status": "completed"
    },
    "tags": []
   },
   "source": [
    "데이터 나누기"
   ]
  },
  {
   "cell_type": "code",
   "execution_count": 33,
   "id": "7d5048fc",
   "metadata": {
    "execution": {
     "iopub.execute_input": "2022-07-16T07:55:15.290279Z",
     "iopub.status.busy": "2022-07-16T07:55:15.289661Z",
     "iopub.status.idle": "2022-07-16T07:55:15.300458Z",
     "shell.execute_reply": "2022-07-16T07:55:15.299622Z"
    },
    "papermill": {
     "duration": 0.041489,
     "end_time": "2022-07-16T07:55:15.302672",
     "exception": false,
     "start_time": "2022-07-16T07:55:15.261183",
     "status": "completed"
    },
    "tags": []
   },
   "outputs": [],
   "source": [
    "# 훈련 데이터와 테스트 데이터 나누기\n",
    "X_train = all_data[~pd.isnull(all_data['count'])]\n",
    "X_test = all_data[pd.isnull(all_data['count'])]\n",
    "\n",
    "# 타깃값 count 제거\n",
    "X_train = X_train.drop(['count'], axis=1)\n",
    "X_test = X_test.drop(['count'], axis=1)\n",
    "\n",
    "y = train['count'] # 타깃값"
   ]
  },
  {
   "cell_type": "code",
   "execution_count": 34,
   "id": "3e3057b7",
   "metadata": {
    "execution": {
     "iopub.execute_input": "2022-07-16T07:55:15.358150Z",
     "iopub.status.busy": "2022-07-16T07:55:15.357697Z",
     "iopub.status.idle": "2022-07-16T07:55:15.372123Z",
     "shell.execute_reply": "2022-07-16T07:55:15.371016Z"
    },
    "papermill": {
     "duration": 0.044677,
     "end_time": "2022-07-16T07:55:15.374240",
     "exception": false,
     "start_time": "2022-07-16T07:55:15.329563",
     "status": "completed"
    },
    "tags": []
   },
   "outputs": [
    {
     "data": {
      "text/html": [
       "<div>\n",
       "<style scoped>\n",
       "    .dataframe tbody tr th:only-of-type {\n",
       "        vertical-align: middle;\n",
       "    }\n",
       "\n",
       "    .dataframe tbody tr th {\n",
       "        vertical-align: top;\n",
       "    }\n",
       "\n",
       "    .dataframe thead th {\n",
       "        text-align: right;\n",
       "    }\n",
       "</style>\n",
       "<table border=\"1\" class=\"dataframe\">\n",
       "  <thead>\n",
       "    <tr style=\"text-align: right;\">\n",
       "      <th></th>\n",
       "      <th>season</th>\n",
       "      <th>holiday</th>\n",
       "      <th>workingday</th>\n",
       "      <th>weather</th>\n",
       "      <th>temp</th>\n",
       "      <th>atemp</th>\n",
       "      <th>humidity</th>\n",
       "      <th>year</th>\n",
       "      <th>hour</th>\n",
       "      <th>weekday</th>\n",
       "    </tr>\n",
       "  </thead>\n",
       "  <tbody>\n",
       "    <tr>\n",
       "      <th>0</th>\n",
       "      <td>1</td>\n",
       "      <td>0</td>\n",
       "      <td>0</td>\n",
       "      <td>1</td>\n",
       "      <td>9.84</td>\n",
       "      <td>14.395</td>\n",
       "      <td>81</td>\n",
       "      <td>2011</td>\n",
       "      <td>00</td>\n",
       "      <td>5</td>\n",
       "    </tr>\n",
       "    <tr>\n",
       "      <th>1</th>\n",
       "      <td>1</td>\n",
       "      <td>0</td>\n",
       "      <td>0</td>\n",
       "      <td>1</td>\n",
       "      <td>9.02</td>\n",
       "      <td>13.635</td>\n",
       "      <td>80</td>\n",
       "      <td>2011</td>\n",
       "      <td>01</td>\n",
       "      <td>5</td>\n",
       "    </tr>\n",
       "    <tr>\n",
       "      <th>2</th>\n",
       "      <td>1</td>\n",
       "      <td>0</td>\n",
       "      <td>0</td>\n",
       "      <td>1</td>\n",
       "      <td>9.02</td>\n",
       "      <td>13.635</td>\n",
       "      <td>80</td>\n",
       "      <td>2011</td>\n",
       "      <td>02</td>\n",
       "      <td>5</td>\n",
       "    </tr>\n",
       "    <tr>\n",
       "      <th>3</th>\n",
       "      <td>1</td>\n",
       "      <td>0</td>\n",
       "      <td>0</td>\n",
       "      <td>1</td>\n",
       "      <td>9.84</td>\n",
       "      <td>14.395</td>\n",
       "      <td>75</td>\n",
       "      <td>2011</td>\n",
       "      <td>03</td>\n",
       "      <td>5</td>\n",
       "    </tr>\n",
       "    <tr>\n",
       "      <th>4</th>\n",
       "      <td>1</td>\n",
       "      <td>0</td>\n",
       "      <td>0</td>\n",
       "      <td>1</td>\n",
       "      <td>9.84</td>\n",
       "      <td>14.395</td>\n",
       "      <td>75</td>\n",
       "      <td>2011</td>\n",
       "      <td>04</td>\n",
       "      <td>5</td>\n",
       "    </tr>\n",
       "  </tbody>\n",
       "</table>\n",
       "</div>"
      ],
      "text/plain": [
       "   season  holiday  workingday  weather  temp   atemp  humidity  year hour  \\\n",
       "0       1        0           0        1  9.84  14.395        81  2011   00   \n",
       "1       1        0           0        1  9.02  13.635        80  2011   01   \n",
       "2       1        0           0        1  9.02  13.635        80  2011   02   \n",
       "3       1        0           0        1  9.84  14.395        75  2011   03   \n",
       "4       1        0           0        1  9.84  14.395        75  2011   04   \n",
       "\n",
       "   weekday  \n",
       "0        5  \n",
       "1        5  \n",
       "2        5  \n",
       "3        5  \n",
       "4        5  "
      ]
     },
     "execution_count": 34,
     "metadata": {},
     "output_type": "execute_result"
    }
   ],
   "source": [
    "X_train.head()"
   ]
  },
  {
   "cell_type": "markdown",
   "id": "964a6806",
   "metadata": {
    "papermill": {
     "duration": 0.027363,
     "end_time": "2022-07-16T07:55:15.428614",
     "exception": false,
     "start_time": "2022-07-16T07:55:15.401251",
     "status": "completed"
    },
    "tags": []
   },
   "source": [
    "### 2.2 평가지표 계산 함수 작성"
   ]
  },
  {
   "cell_type": "code",
   "execution_count": 35,
   "id": "fd502192",
   "metadata": {
    "execution": {
     "iopub.execute_input": "2022-07-16T07:55:15.485267Z",
     "iopub.status.busy": "2022-07-16T07:55:15.484895Z",
     "iopub.status.idle": "2022-07-16T07:55:15.491080Z",
     "shell.execute_reply": "2022-07-16T07:55:15.490203Z"
    },
    "papermill": {
     "duration": 0.037,
     "end_time": "2022-07-16T07:55:15.493114",
     "exception": false,
     "start_time": "2022-07-16T07:55:15.456114",
     "status": "completed"
    },
    "tags": []
   },
   "outputs": [],
   "source": [
    "import numpy as np\n",
    "\n",
    "def rmsle(y_true, y_pred, convertExp=True):\n",
    "    # 지수변환\n",
    "    if convertExp:\n",
    "        y_true = np.exp(y_true)\n",
    "        y_pred = np.exp(y_pred)\n",
    "        \n",
    "    # 로그변환 후 결측값을 0으로 변환\n",
    "    log_true = np.nan_to_num(np.log(y_true+1))\n",
    "    log_pred = np.nan_to_num(np.log(y_pred+1))\n",
    "    \n",
    "    # RMSLE 계산\n",
    "    output = np.sqrt(np.mean((log_true - log_pred)**2))\n",
    "    return output"
   ]
  },
  {
   "cell_type": "markdown",
   "id": "9e68d73f",
   "metadata": {
    "papermill": {
     "duration": 0.026919,
     "end_time": "2022-07-16T07:55:15.547647",
     "exception": false,
     "start_time": "2022-07-16T07:55:15.520728",
     "status": "completed"
    },
    "tags": []
   },
   "source": [
    "### 2.3 모델훈련"
   ]
  },
  {
   "cell_type": "code",
   "execution_count": 36,
   "id": "c0c3feee",
   "metadata": {
    "execution": {
     "iopub.execute_input": "2022-07-16T07:55:15.605026Z",
     "iopub.status.busy": "2022-07-16T07:55:15.604014Z",
     "iopub.status.idle": "2022-07-16T07:55:16.013387Z",
     "shell.execute_reply": "2022-07-16T07:55:16.012088Z"
    },
    "papermill": {
     "duration": 0.440915,
     "end_time": "2022-07-16T07:55:16.016113",
     "exception": false,
     "start_time": "2022-07-16T07:55:15.575198",
     "status": "completed"
    },
    "tags": []
   },
   "outputs": [],
   "source": [
    "from sklearn.linear_model import LinearRegression\n",
    "\n",
    "linear_reg_model = LinearRegression()"
   ]
  },
  {
   "cell_type": "code",
   "execution_count": 37,
   "id": "e0d08aac",
   "metadata": {
    "execution": {
     "iopub.execute_input": "2022-07-16T07:55:16.072835Z",
     "iopub.status.busy": "2022-07-16T07:55:16.071798Z",
     "iopub.status.idle": "2022-07-16T07:55:16.117972Z",
     "shell.execute_reply": "2022-07-16T07:55:16.116463Z"
    },
    "papermill": {
     "duration": 0.078282,
     "end_time": "2022-07-16T07:55:16.121544",
     "exception": false,
     "start_time": "2022-07-16T07:55:16.043262",
     "status": "completed"
    },
    "tags": []
   },
   "outputs": [
    {
     "data": {
      "text/plain": [
       "LinearRegression()"
      ]
     },
     "execution_count": 37,
     "metadata": {},
     "output_type": "execute_result"
    }
   ],
   "source": [
    "log_y = np.log(y)  # 타깃값 로그변환\n",
    "linear_reg_model.fit(X_train, log_y) # 모델 훈련"
   ]
  },
  {
   "cell_type": "markdown",
   "id": "553917d4",
   "metadata": {
    "papermill": {
     "duration": 0.051762,
     "end_time": "2022-07-16T07:55:16.230157",
     "exception": false,
     "start_time": "2022-07-16T07:55:16.178395",
     "status": "completed"
    },
    "tags": []
   },
   "source": [
    "### 2.4 모델 성능 검증"
   ]
  },
  {
   "cell_type": "code",
   "execution_count": 38,
   "id": "223ce511",
   "metadata": {
    "execution": {
     "iopub.execute_input": "2022-07-16T07:55:16.287339Z",
     "iopub.status.busy": "2022-07-16T07:55:16.286672Z",
     "iopub.status.idle": "2022-07-16T07:55:16.300440Z",
     "shell.execute_reply": "2022-07-16T07:55:16.299422Z"
    },
    "papermill": {
     "duration": 0.048653,
     "end_time": "2022-07-16T07:55:16.306403",
     "exception": false,
     "start_time": "2022-07-16T07:55:16.257750",
     "status": "completed"
    },
    "tags": []
   },
   "outputs": [],
   "source": [
    "preds = linear_reg_model.predict(X_train)"
   ]
  },
  {
   "cell_type": "code",
   "execution_count": 39,
   "id": "49cdaf43",
   "metadata": {
    "execution": {
     "iopub.execute_input": "2022-07-16T07:55:16.423461Z",
     "iopub.status.busy": "2022-07-16T07:55:16.423104Z",
     "iopub.status.idle": "2022-07-16T07:55:16.430198Z",
     "shell.execute_reply": "2022-07-16T07:55:16.428745Z"
    },
    "papermill": {
     "duration": 0.063939,
     "end_time": "2022-07-16T07:55:16.432360",
     "exception": false,
     "start_time": "2022-07-16T07:55:16.368421",
     "status": "completed"
    },
    "tags": []
   },
   "outputs": [
    {
     "name": "stdout",
     "output_type": "stream",
     "text": [
      "선형회귀에 RMSLE 값 : 1.0205\n"
     ]
    }
   ],
   "source": [
    "print (f'선형회귀에 RMSLE 값 : {rmsle(log_y, preds, True):.4f}')"
   ]
  },
  {
   "cell_type": "markdown",
   "id": "eb97c2e9",
   "metadata": {
    "papermill": {
     "duration": 0.026735,
     "end_time": "2022-07-16T07:55:16.486255",
     "exception": false,
     "start_time": "2022-07-16T07:55:16.459520",
     "status": "completed"
    },
    "tags": []
   },
   "source": [
    "### 2.5 예측 및 결과 제출"
   ]
  },
  {
   "cell_type": "code",
   "execution_count": 40,
   "id": "4391b11c",
   "metadata": {
    "execution": {
     "iopub.execute_input": "2022-07-16T07:55:16.541895Z",
     "iopub.status.busy": "2022-07-16T07:55:16.541492Z",
     "iopub.status.idle": "2022-07-16T07:55:16.596651Z",
     "shell.execute_reply": "2022-07-16T07:55:16.595282Z"
    },
    "papermill": {
     "duration": 0.087107,
     "end_time": "2022-07-16T07:55:16.600332",
     "exception": false,
     "start_time": "2022-07-16T07:55:16.513225",
     "status": "completed"
    },
    "tags": []
   },
   "outputs": [],
   "source": [
    "linearreg_preds = linear_reg_model.predict(X_test) # 테스트 데이터로 예측\n",
    "\n",
    "submission['count'] = np.exp(linearreg_preds) # 지수변환\n",
    "submission.to_csv('first_submission.csv', index=False) # 파일로 저장"
   ]
  },
  {
   "cell_type": "markdown",
   "id": "4d68b44a",
   "metadata": {
    "papermill": {
     "duration": 0.036207,
     "end_time": "2022-07-16T07:55:16.691830",
     "exception": false,
     "start_time": "2022-07-16T07:55:16.655623",
     "status": "completed"
    },
    "tags": []
   },
   "source": [
    "자, 여러분들이 여기까지 정상적으로 하셨다면 'Output/kaggle/working에 first_submission.csv이 생성되었을 겁니다.\n",
    "\n",
    "저 파일을 다운로드해서 직접 대회에 제출하고 평가 점수를 살펴보세요"
   ]
  },
  {
   "cell_type": "markdown",
   "id": "cd31a9d8",
   "metadata": {
    "papermill": {
     "duration": 0.027661,
     "end_time": "2022-07-16T07:55:16.746648",
     "exception": false,
     "start_time": "2022-07-16T07:55:16.718987",
     "status": "completed"
    },
    "tags": []
   },
   "source": [
    "# 3. 자전가 대여 수요 예측 경진대회 모델 성능 개선"
   ]
  },
  {
   "cell_type": "markdown",
   "id": "3854374e",
   "metadata": {
    "papermill": {
     "duration": 0.029048,
     "end_time": "2022-07-16T07:55:16.803226",
     "exception": false,
     "start_time": "2022-07-16T07:55:16.774178",
     "status": "completed"
    },
    "tags": []
   },
   "source": [
    "Run -> Stop Session후 여기서부터 실행권장.(필수아님)"
   ]
  },
  {
   "cell_type": "code",
   "execution_count": 41,
   "id": "79c04fde",
   "metadata": {
    "execution": {
     "iopub.execute_input": "2022-07-16T07:55:16.886574Z",
     "iopub.status.busy": "2022-07-16T07:55:16.886102Z",
     "iopub.status.idle": "2022-07-16T07:55:16.937182Z",
     "shell.execute_reply": "2022-07-16T07:55:16.936022Z"
    },
    "papermill": {
     "duration": 0.103384,
     "end_time": "2022-07-16T07:55:16.939688",
     "exception": false,
     "start_time": "2022-07-16T07:55:16.836304",
     "status": "completed"
    },
    "tags": []
   },
   "outputs": [],
   "source": [
    "import pandas as pd\n",
    "# 데이터 경로\n",
    "data_path = '/kaggle/input/bikesharingdemand/'\n",
    "\n",
    "train = pd.read_csv(data_path + 'train.csv')\n",
    "test = pd.read_csv(data_path + 'test.csv')\n",
    "submission = pd.read_csv(data_path + 'sampleSubmission.csv')"
   ]
  },
  {
   "cell_type": "markdown",
   "id": "8419e119",
   "metadata": {
    "papermill": {
     "duration": 0.035133,
     "end_time": "2022-07-16T07:55:17.004095",
     "exception": false,
     "start_time": "2022-07-16T07:55:16.968962",
     "status": "completed"
    },
    "tags": []
   },
   "source": [
    "### 피처 엔지니어링"
   ]
  },
  {
   "cell_type": "markdown",
   "id": "e4ea5a81",
   "metadata": {
    "papermill": {
     "duration": 0.028709,
     "end_time": "2022-07-16T07:55:17.061758",
     "exception": false,
     "start_time": "2022-07-16T07:55:17.033049",
     "status": "completed"
    },
    "tags": []
   },
   "source": [
    "이상치 제거"
   ]
  },
  {
   "cell_type": "code",
   "execution_count": 42,
   "id": "153f216f",
   "metadata": {
    "execution": {
     "iopub.execute_input": "2022-07-16T07:55:17.135892Z",
     "iopub.status.busy": "2022-07-16T07:55:17.135150Z",
     "iopub.status.idle": "2022-07-16T07:55:17.142045Z",
     "shell.execute_reply": "2022-07-16T07:55:17.141231Z"
    },
    "papermill": {
     "duration": 0.053849,
     "end_time": "2022-07-16T07:55:17.144812",
     "exception": false,
     "start_time": "2022-07-16T07:55:17.090963",
     "status": "completed"
    },
    "tags": []
   },
   "outputs": [],
   "source": [
    "# 훈련 데이터에서 weather가 4가 아닌 데이터만 추출\n",
    "\n",
    "train = train[train['weather'] != 4]"
   ]
  },
  {
   "cell_type": "markdown",
   "id": "489b9be3",
   "metadata": {
    "papermill": {
     "duration": 0.036332,
     "end_time": "2022-07-16T07:55:17.219382",
     "exception": false,
     "start_time": "2022-07-16T07:55:17.183050",
     "status": "completed"
    },
    "tags": []
   },
   "source": [
    "데이터 합치기"
   ]
  },
  {
   "cell_type": "code",
   "execution_count": 43,
   "id": "db7c145b",
   "metadata": {
    "execution": {
     "iopub.execute_input": "2022-07-16T07:55:17.277968Z",
     "iopub.status.busy": "2022-07-16T07:55:17.277212Z",
     "iopub.status.idle": "2022-07-16T07:55:17.301564Z",
     "shell.execute_reply": "2022-07-16T07:55:17.300448Z"
    },
    "papermill": {
     "duration": 0.055961,
     "end_time": "2022-07-16T07:55:17.303849",
     "exception": false,
     "start_time": "2022-07-16T07:55:17.247888",
     "status": "completed"
    },
    "tags": []
   },
   "outputs": [
    {
     "data": {
      "text/html": [
       "<div>\n",
       "<style scoped>\n",
       "    .dataframe tbody tr th:only-of-type {\n",
       "        vertical-align: middle;\n",
       "    }\n",
       "\n",
       "    .dataframe tbody tr th {\n",
       "        vertical-align: top;\n",
       "    }\n",
       "\n",
       "    .dataframe thead th {\n",
       "        text-align: right;\n",
       "    }\n",
       "</style>\n",
       "<table border=\"1\" class=\"dataframe\">\n",
       "  <thead>\n",
       "    <tr style=\"text-align: right;\">\n",
       "      <th></th>\n",
       "      <th>datetime</th>\n",
       "      <th>season</th>\n",
       "      <th>holiday</th>\n",
       "      <th>workingday</th>\n",
       "      <th>weather</th>\n",
       "      <th>temp</th>\n",
       "      <th>atemp</th>\n",
       "      <th>humidity</th>\n",
       "      <th>windspeed</th>\n",
       "      <th>casual</th>\n",
       "      <th>registered</th>\n",
       "      <th>count</th>\n",
       "    </tr>\n",
       "  </thead>\n",
       "  <tbody>\n",
       "    <tr>\n",
       "      <th>0</th>\n",
       "      <td>2011-01-01 00:00:00</td>\n",
       "      <td>1</td>\n",
       "      <td>0</td>\n",
       "      <td>0</td>\n",
       "      <td>1</td>\n",
       "      <td>9.84</td>\n",
       "      <td>14.395</td>\n",
       "      <td>81</td>\n",
       "      <td>0.0000</td>\n",
       "      <td>3.0</td>\n",
       "      <td>13.0</td>\n",
       "      <td>16.0</td>\n",
       "    </tr>\n",
       "    <tr>\n",
       "      <th>1</th>\n",
       "      <td>2011-01-01 01:00:00</td>\n",
       "      <td>1</td>\n",
       "      <td>0</td>\n",
       "      <td>0</td>\n",
       "      <td>1</td>\n",
       "      <td>9.02</td>\n",
       "      <td>13.635</td>\n",
       "      <td>80</td>\n",
       "      <td>0.0000</td>\n",
       "      <td>8.0</td>\n",
       "      <td>32.0</td>\n",
       "      <td>40.0</td>\n",
       "    </tr>\n",
       "    <tr>\n",
       "      <th>2</th>\n",
       "      <td>2011-01-01 02:00:00</td>\n",
       "      <td>1</td>\n",
       "      <td>0</td>\n",
       "      <td>0</td>\n",
       "      <td>1</td>\n",
       "      <td>9.02</td>\n",
       "      <td>13.635</td>\n",
       "      <td>80</td>\n",
       "      <td>0.0000</td>\n",
       "      <td>5.0</td>\n",
       "      <td>27.0</td>\n",
       "      <td>32.0</td>\n",
       "    </tr>\n",
       "    <tr>\n",
       "      <th>3</th>\n",
       "      <td>2011-01-01 03:00:00</td>\n",
       "      <td>1</td>\n",
       "      <td>0</td>\n",
       "      <td>0</td>\n",
       "      <td>1</td>\n",
       "      <td>9.84</td>\n",
       "      <td>14.395</td>\n",
       "      <td>75</td>\n",
       "      <td>0.0000</td>\n",
       "      <td>3.0</td>\n",
       "      <td>10.0</td>\n",
       "      <td>13.0</td>\n",
       "    </tr>\n",
       "    <tr>\n",
       "      <th>4</th>\n",
       "      <td>2011-01-01 04:00:00</td>\n",
       "      <td>1</td>\n",
       "      <td>0</td>\n",
       "      <td>0</td>\n",
       "      <td>1</td>\n",
       "      <td>9.84</td>\n",
       "      <td>14.395</td>\n",
       "      <td>75</td>\n",
       "      <td>0.0000</td>\n",
       "      <td>0.0</td>\n",
       "      <td>1.0</td>\n",
       "      <td>1.0</td>\n",
       "    </tr>\n",
       "    <tr>\n",
       "      <th>...</th>\n",
       "      <td>...</td>\n",
       "      <td>...</td>\n",
       "      <td>...</td>\n",
       "      <td>...</td>\n",
       "      <td>...</td>\n",
       "      <td>...</td>\n",
       "      <td>...</td>\n",
       "      <td>...</td>\n",
       "      <td>...</td>\n",
       "      <td>...</td>\n",
       "      <td>...</td>\n",
       "      <td>...</td>\n",
       "    </tr>\n",
       "    <tr>\n",
       "      <th>17373</th>\n",
       "      <td>2012-12-31 19:00:00</td>\n",
       "      <td>1</td>\n",
       "      <td>0</td>\n",
       "      <td>1</td>\n",
       "      <td>2</td>\n",
       "      <td>10.66</td>\n",
       "      <td>12.880</td>\n",
       "      <td>60</td>\n",
       "      <td>11.0014</td>\n",
       "      <td>NaN</td>\n",
       "      <td>NaN</td>\n",
       "      <td>NaN</td>\n",
       "    </tr>\n",
       "    <tr>\n",
       "      <th>17374</th>\n",
       "      <td>2012-12-31 20:00:00</td>\n",
       "      <td>1</td>\n",
       "      <td>0</td>\n",
       "      <td>1</td>\n",
       "      <td>2</td>\n",
       "      <td>10.66</td>\n",
       "      <td>12.880</td>\n",
       "      <td>60</td>\n",
       "      <td>11.0014</td>\n",
       "      <td>NaN</td>\n",
       "      <td>NaN</td>\n",
       "      <td>NaN</td>\n",
       "    </tr>\n",
       "    <tr>\n",
       "      <th>17375</th>\n",
       "      <td>2012-12-31 21:00:00</td>\n",
       "      <td>1</td>\n",
       "      <td>0</td>\n",
       "      <td>1</td>\n",
       "      <td>1</td>\n",
       "      <td>10.66</td>\n",
       "      <td>12.880</td>\n",
       "      <td>60</td>\n",
       "      <td>11.0014</td>\n",
       "      <td>NaN</td>\n",
       "      <td>NaN</td>\n",
       "      <td>NaN</td>\n",
       "    </tr>\n",
       "    <tr>\n",
       "      <th>17376</th>\n",
       "      <td>2012-12-31 22:00:00</td>\n",
       "      <td>1</td>\n",
       "      <td>0</td>\n",
       "      <td>1</td>\n",
       "      <td>1</td>\n",
       "      <td>10.66</td>\n",
       "      <td>13.635</td>\n",
       "      <td>56</td>\n",
       "      <td>8.9981</td>\n",
       "      <td>NaN</td>\n",
       "      <td>NaN</td>\n",
       "      <td>NaN</td>\n",
       "    </tr>\n",
       "    <tr>\n",
       "      <th>17377</th>\n",
       "      <td>2012-12-31 23:00:00</td>\n",
       "      <td>1</td>\n",
       "      <td>0</td>\n",
       "      <td>1</td>\n",
       "      <td>1</td>\n",
       "      <td>10.66</td>\n",
       "      <td>13.635</td>\n",
       "      <td>65</td>\n",
       "      <td>8.9981</td>\n",
       "      <td>NaN</td>\n",
       "      <td>NaN</td>\n",
       "      <td>NaN</td>\n",
       "    </tr>\n",
       "  </tbody>\n",
       "</table>\n",
       "<p>17378 rows × 12 columns</p>\n",
       "</div>"
      ],
      "text/plain": [
       "                  datetime  season  holiday  workingday  weather   temp  \\\n",
       "0      2011-01-01 00:00:00       1        0           0        1   9.84   \n",
       "1      2011-01-01 01:00:00       1        0           0        1   9.02   \n",
       "2      2011-01-01 02:00:00       1        0           0        1   9.02   \n",
       "3      2011-01-01 03:00:00       1        0           0        1   9.84   \n",
       "4      2011-01-01 04:00:00       1        0           0        1   9.84   \n",
       "...                    ...     ...      ...         ...      ...    ...   \n",
       "17373  2012-12-31 19:00:00       1        0           1        2  10.66   \n",
       "17374  2012-12-31 20:00:00       1        0           1        2  10.66   \n",
       "17375  2012-12-31 21:00:00       1        0           1        1  10.66   \n",
       "17376  2012-12-31 22:00:00       1        0           1        1  10.66   \n",
       "17377  2012-12-31 23:00:00       1        0           1        1  10.66   \n",
       "\n",
       "        atemp  humidity  windspeed  casual  registered  count  \n",
       "0      14.395        81     0.0000     3.0        13.0   16.0  \n",
       "1      13.635        80     0.0000     8.0        32.0   40.0  \n",
       "2      13.635        80     0.0000     5.0        27.0   32.0  \n",
       "3      14.395        75     0.0000     3.0        10.0   13.0  \n",
       "4      14.395        75     0.0000     0.0         1.0    1.0  \n",
       "...       ...       ...        ...     ...         ...    ...  \n",
       "17373  12.880        60    11.0014     NaN         NaN    NaN  \n",
       "17374  12.880        60    11.0014     NaN         NaN    NaN  \n",
       "17375  12.880        60    11.0014     NaN         NaN    NaN  \n",
       "17376  13.635        56     8.9981     NaN         NaN    NaN  \n",
       "17377  13.635        65     8.9981     NaN         NaN    NaN  \n",
       "\n",
       "[17378 rows x 12 columns]"
      ]
     },
     "execution_count": 43,
     "metadata": {},
     "output_type": "execute_result"
    }
   ],
   "source": [
    "all_data = pd.concat([train, test], ignore_index=True)\n",
    "all_data"
   ]
  },
  {
   "cell_type": "markdown",
   "id": "def2eb94",
   "metadata": {
    "papermill": {
     "duration": 0.027836,
     "end_time": "2022-07-16T07:55:17.359897",
     "exception": false,
     "start_time": "2022-07-16T07:55:17.332061",
     "status": "completed"
    },
    "tags": []
   },
   "source": [
    "파생 변수(피처)추가"
   ]
  },
  {
   "cell_type": "code",
   "execution_count": 44,
   "id": "dda36683",
   "metadata": {
    "execution": {
     "iopub.execute_input": "2022-07-16T07:55:17.418579Z",
     "iopub.status.busy": "2022-07-16T07:55:17.417827Z",
     "iopub.status.idle": "2022-07-16T07:55:17.608106Z",
     "shell.execute_reply": "2022-07-16T07:55:17.607257Z"
    },
    "papermill": {
     "duration": 0.222129,
     "end_time": "2022-07-16T07:55:17.610438",
     "exception": false,
     "start_time": "2022-07-16T07:55:17.388309",
     "status": "completed"
    },
    "tags": []
   },
   "outputs": [],
   "source": [
    "from datetime import datetime\n",
    "\n",
    "# 날짜 피처 생성\n",
    "all_data['date'] = all_data['datetime'].apply(lambda x: x.split()[0])\n",
    "# 연도 피처 생성\n",
    "all_data['year'] = all_data['datetime'].apply(lambda x: x.split()[0].split('-')[0])\n",
    "# 월 피처 생성\n",
    "all_data['month'] = all_data['datetime'].apply(lambda x: x.split()[0].split('-')[1])\n",
    "# 시 피처 생성\n",
    "all_data['hour'] = all_data['datetime'].apply(lambda x: x.split()[1].split(':')[0])\n",
    "# 요일 피처 생성\n",
    "all_data[\"weekday\"] = all_data['date'].apply(lambda dateString : datetime.strptime(dateString,\"%Y-%m-%d\").weekday())"
   ]
  },
  {
   "cell_type": "markdown",
   "id": "f6781d0e",
   "metadata": {
    "papermill": {
     "duration": 0.027654,
     "end_time": "2022-07-16T07:55:17.666291",
     "exception": false,
     "start_time": "2022-07-16T07:55:17.638637",
     "status": "completed"
    },
    "tags": []
   },
   "source": [
    "필요 없는 피처 제거"
   ]
  },
  {
   "cell_type": "code",
   "execution_count": 45,
   "id": "2fbfe160",
   "metadata": {
    "execution": {
     "iopub.execute_input": "2022-07-16T07:55:17.726860Z",
     "iopub.status.busy": "2022-07-16T07:55:17.726142Z",
     "iopub.status.idle": "2022-07-16T07:55:17.736827Z",
     "shell.execute_reply": "2022-07-16T07:55:17.736005Z"
    },
    "papermill": {
     "duration": 0.043418,
     "end_time": "2022-07-16T07:55:17.739094",
     "exception": false,
     "start_time": "2022-07-16T07:55:17.695676",
     "status": "completed"
    },
    "tags": []
   },
   "outputs": [],
   "source": [
    "drop_features = ['casual', 'registered', 'datetime', 'date', 'windspeed', 'month']\n",
    "\n",
    "all_data = all_data.drop(drop_features, axis=1)"
   ]
  },
  {
   "cell_type": "markdown",
   "id": "bf2a1683",
   "metadata": {
    "papermill": {
     "duration": 0.027204,
     "end_time": "2022-07-16T07:55:17.793694",
     "exception": false,
     "start_time": "2022-07-16T07:55:17.766490",
     "status": "completed"
    },
    "tags": []
   },
   "source": [
    "데이터 나누기"
   ]
  },
  {
   "cell_type": "code",
   "execution_count": 46,
   "id": "04679b89",
   "metadata": {
    "execution": {
     "iopub.execute_input": "2022-07-16T07:55:17.851354Z",
     "iopub.status.busy": "2022-07-16T07:55:17.850586Z",
     "iopub.status.idle": "2022-07-16T07:55:17.862072Z",
     "shell.execute_reply": "2022-07-16T07:55:17.860918Z"
    },
    "papermill": {
     "duration": 0.043301,
     "end_time": "2022-07-16T07:55:17.864472",
     "exception": false,
     "start_time": "2022-07-16T07:55:17.821171",
     "status": "completed"
    },
    "tags": []
   },
   "outputs": [],
   "source": [
    "# 훈련 데이터와 테스트 데이터 나누기\n",
    "X_train = all_data[~pd.isnull(all_data['count'])]\n",
    "X_test = all_data[pd.isnull(all_data['count'])]\n",
    "\n",
    "# 타깃값 count 제거\n",
    "X_train = X_train.drop(['count'], axis=1)\n",
    "X_test = X_test.drop(['count'], axis=1)\n",
    "\n",
    "y = train['count'] # 타깃값"
   ]
  },
  {
   "cell_type": "markdown",
   "id": "4b9717c5",
   "metadata": {
    "papermill": {
     "duration": 0.027048,
     "end_time": "2022-07-16T07:55:17.919150",
     "exception": false,
     "start_time": "2022-07-16T07:55:17.892102",
     "status": "completed"
    },
    "tags": []
   },
   "source": [
    "### 평가지표 계산 함수 작성"
   ]
  },
  {
   "cell_type": "code",
   "execution_count": 47,
   "id": "a726764b",
   "metadata": {
    "execution": {
     "iopub.execute_input": "2022-07-16T07:55:17.976008Z",
     "iopub.status.busy": "2022-07-16T07:55:17.975598Z",
     "iopub.status.idle": "2022-07-16T07:55:17.982116Z",
     "shell.execute_reply": "2022-07-16T07:55:17.981313Z"
    },
    "papermill": {
     "duration": 0.037974,
     "end_time": "2022-07-16T07:55:17.984567",
     "exception": false,
     "start_time": "2022-07-16T07:55:17.946593",
     "status": "completed"
    },
    "tags": []
   },
   "outputs": [],
   "source": [
    "import numpy as np\n",
    "\n",
    "def rmsle(y_true, y_pred, convertExp=True):\n",
    "    # 지수변환\n",
    "    if convertExp:\n",
    "        y_true = np.exp(y_true)\n",
    "        y_pred = np.exp(y_pred)\n",
    "        \n",
    "    # 로그변환 후 결측값을 0으로 변환\n",
    "    log_true = np.nan_to_num(np.log(y_true+1))\n",
    "    log_pred = np.nan_to_num(np.log(y_pred+1))\n",
    "    \n",
    "    # RMSLE 계산\n",
    "    output = np.sqrt(np.mean((log_true - log_pred)**2))\n",
    "    return output"
   ]
  },
  {
   "cell_type": "markdown",
   "id": "ce531352",
   "metadata": {
    "papermill": {
     "duration": 0.027666,
     "end_time": "2022-07-16T07:55:18.040834",
     "exception": false,
     "start_time": "2022-07-16T07:55:18.013168",
     "status": "completed"
    },
    "tags": []
   },
   "source": [
    "# 3.1 성능 개선 I : 릿지 회귀 모델"
   ]
  },
  {
   "cell_type": "markdown",
   "id": "83a62f65",
   "metadata": {
    "papermill": {
     "duration": 0.027192,
     "end_time": "2022-07-16T07:55:18.095560",
     "exception": false,
     "start_time": "2022-07-16T07:55:18.068368",
     "status": "completed"
    },
    "tags": []
   },
   "source": [
    "### 3.1.1 하이퍼 파라미터 최적화(모델 훈련)"
   ]
  },
  {
   "cell_type": "markdown",
   "id": "bb9f6afe",
   "metadata": {
    "papermill": {
     "duration": 0.026885,
     "end_time": "2022-07-16T07:55:18.149774",
     "exception": false,
     "start_time": "2022-07-16T07:55:18.122889",
     "status": "completed"
    },
    "tags": []
   },
   "source": [
    "모델 생성"
   ]
  },
  {
   "cell_type": "code",
   "execution_count": 48,
   "id": "81f5ee62",
   "metadata": {
    "execution": {
     "iopub.execute_input": "2022-07-16T07:55:18.206505Z",
     "iopub.status.busy": "2022-07-16T07:55:18.205797Z",
     "iopub.status.idle": "2022-07-16T07:55:18.210834Z",
     "shell.execute_reply": "2022-07-16T07:55:18.210052Z"
    },
    "papermill": {
     "duration": 0.035779,
     "end_time": "2022-07-16T07:55:18.213022",
     "exception": false,
     "start_time": "2022-07-16T07:55:18.177243",
     "status": "completed"
    },
    "tags": []
   },
   "outputs": [],
   "source": [
    "from sklearn.linear_model import Ridge\n",
    "from sklearn.model_selection import GridSearchCV\n",
    "from sklearn import metrics\n",
    "\n",
    "ridge_model = Ridge()"
   ]
  },
  {
   "cell_type": "markdown",
   "id": "86899835",
   "metadata": {
    "papermill": {
     "duration": 0.0272,
     "end_time": "2022-07-16T07:55:18.267743",
     "exception": false,
     "start_time": "2022-07-16T07:55:18.240543",
     "status": "completed"
    },
    "tags": []
   },
   "source": [
    "그리드서치 객체 생"
   ]
  },
  {
   "cell_type": "code",
   "execution_count": 49,
   "id": "6a2a55a8",
   "metadata": {
    "execution": {
     "iopub.execute_input": "2022-07-16T07:55:18.324374Z",
     "iopub.status.busy": "2022-07-16T07:55:18.324001Z",
     "iopub.status.idle": "2022-07-16T07:55:18.330095Z",
     "shell.execute_reply": "2022-07-16T07:55:18.329187Z"
    },
    "papermill": {
     "duration": 0.036874,
     "end_time": "2022-07-16T07:55:18.331975",
     "exception": false,
     "start_time": "2022-07-16T07:55:18.295101",
     "status": "completed"
    },
    "tags": []
   },
   "outputs": [],
   "source": [
    "# 하이퍼 파라미터 값 목록\n",
    "ridge_params = {'max_iter':[3000], 'alpha':[0.1, 1, 2, 3, 4, 10, 30, 100, 200, 300, 400, 800, 900, 1000]}\n",
    "\n",
    "# 교차 검증용 평가 함수(RMSLE 점수 계산)\n",
    "rmsle_scorer = metrics.make_scorer(rmsle, greater_is_better=False)\n",
    "# 그리드서치(with 릿지) 객체 생성\n",
    "gridsearch_ridge_model = GridSearchCV(estimator=ridge_model,   # 릿지 모델\n",
    "                                      param_grid=ridge_params, # 값 목록\n",
    "                                      scoring=rmsle_scorer,    # 평가지표\n",
    "                                      cv=5)                    # 교차검증 분할 수"
   ]
  },
  {
   "cell_type": "markdown",
   "id": "76912621",
   "metadata": {
    "papermill": {
     "duration": 0.027583,
     "end_time": "2022-07-16T07:55:18.386984",
     "exception": false,
     "start_time": "2022-07-16T07:55:18.359401",
     "status": "completed"
    },
    "tags": []
   },
   "source": [
    "그리드서치 수행"
   ]
  },
  {
   "cell_type": "code",
   "execution_count": 50,
   "id": "e4246d50",
   "metadata": {
    "execution": {
     "iopub.execute_input": "2022-07-16T07:55:18.444817Z",
     "iopub.status.busy": "2022-07-16T07:55:18.444410Z",
     "iopub.status.idle": "2022-07-16T07:55:20.519655Z",
     "shell.execute_reply": "2022-07-16T07:55:20.518576Z"
    },
    "papermill": {
     "duration": 2.108273,
     "end_time": "2022-07-16T07:55:20.522820",
     "exception": false,
     "start_time": "2022-07-16T07:55:18.414547",
     "status": "completed"
    },
    "tags": []
   },
   "outputs": [
    {
     "data": {
      "text/plain": [
       "GridSearchCV(cv=5, estimator=Ridge(),\n",
       "             param_grid={'alpha': [0.1, 1, 2, 3, 4, 10, 30, 100, 200, 300, 400,\n",
       "                                   800, 900, 1000],\n",
       "                         'max_iter': [3000]},\n",
       "             scoring=make_scorer(rmsle, greater_is_better=False))"
      ]
     },
     "execution_count": 50,
     "metadata": {},
     "output_type": "execute_result"
    }
   ],
   "source": [
    "log_y = np.log(y) # 타깃값 로그변환\n",
    "gridsearch_ridge_model.fit(X_train, log_y) # 훈련(그리드서치)"
   ]
  },
  {
   "cell_type": "code",
   "execution_count": 51,
   "id": "aed694a1",
   "metadata": {
    "execution": {
     "iopub.execute_input": "2022-07-16T07:55:20.623915Z",
     "iopub.status.busy": "2022-07-16T07:55:20.623534Z",
     "iopub.status.idle": "2022-07-16T07:55:20.629178Z",
     "shell.execute_reply": "2022-07-16T07:55:20.628067Z"
    },
    "papermill": {
     "duration": 0.052753,
     "end_time": "2022-07-16T07:55:20.631940",
     "exception": false,
     "start_time": "2022-07-16T07:55:20.579187",
     "status": "completed"
    },
    "tags": []
   },
   "outputs": [
    {
     "name": "stdout",
     "output_type": "stream",
     "text": [
      "최적 하이퍼파라미터 : {'alpha': 0.1, 'max_iter': 3000}\n"
     ]
    }
   ],
   "source": [
    "print('최적 하이퍼파라미터 :', gridsearch_ridge_model.best_params_)"
   ]
  },
  {
   "cell_type": "markdown",
   "id": "70b98bca",
   "metadata": {
    "papermill": {
     "duration": 0.02776,
     "end_time": "2022-07-16T07:55:20.687847",
     "exception": false,
     "start_time": "2022-07-16T07:55:20.660087",
     "status": "completed"
    },
    "tags": []
   },
   "source": [
    "### 3.1.2 성능 검증"
   ]
  },
  {
   "cell_type": "code",
   "execution_count": 52,
   "id": "d48cf275",
   "metadata": {
    "execution": {
     "iopub.execute_input": "2022-07-16T07:55:20.746324Z",
     "iopub.status.busy": "2022-07-16T07:55:20.745959Z",
     "iopub.status.idle": "2022-07-16T07:55:20.767257Z",
     "shell.execute_reply": "2022-07-16T07:55:20.765848Z"
    },
    "papermill": {
     "duration": 0.054689,
     "end_time": "2022-07-16T07:55:20.770594",
     "exception": false,
     "start_time": "2022-07-16T07:55:20.715905",
     "status": "completed"
    },
    "tags": []
   },
   "outputs": [
    {
     "name": "stdout",
     "output_type": "stream",
     "text": [
      "릿지 회귀 RMSLE 값 : 1.0205\n"
     ]
    }
   ],
   "source": [
    "# 예측\n",
    "\n",
    "preds = gridsearch_ridge_model.best_estimator_.predict(X_train)\n",
    "\n",
    "# 평가\n",
    "print(f'릿지 회귀 RMSLE 값 : {rmsle(log_y, preds, True):.4f}')"
   ]
  },
  {
   "cell_type": "markdown",
   "id": "ea9db037",
   "metadata": {
    "papermill": {
     "duration": 0.05482,
     "end_time": "2022-07-16T07:55:20.883790",
     "exception": false,
     "start_time": "2022-07-16T07:55:20.828970",
     "status": "completed"
    },
    "tags": []
   },
   "source": [
    "# 성능 개선 II : 라쏘 회귀 모델"
   ]
  },
  {
   "cell_type": "markdown",
   "id": "bfe71958",
   "metadata": {
    "papermill": {
     "duration": 0.028348,
     "end_time": "2022-07-16T07:55:20.941393",
     "exception": false,
     "start_time": "2022-07-16T07:55:20.913045",
     "status": "completed"
    },
    "tags": []
   },
   "source": [
    "### 3.2.1 하이퍼 파라미터 최적화(모델 훈련)"
   ]
  },
  {
   "cell_type": "code",
   "execution_count": 53,
   "id": "c8486ae9",
   "metadata": {
    "execution": {
     "iopub.execute_input": "2022-07-16T07:55:20.999591Z",
     "iopub.status.busy": "2022-07-16T07:55:20.999216Z",
     "iopub.status.idle": "2022-07-16T07:55:25.991492Z",
     "shell.execute_reply": "2022-07-16T07:55:25.989350Z"
    },
    "papermill": {
     "duration": 5.02778,
     "end_time": "2022-07-16T07:55:25.997089",
     "exception": false,
     "start_time": "2022-07-16T07:55:20.969309",
     "status": "completed"
    },
    "tags": []
   },
   "outputs": [
    {
     "name": "stdout",
     "output_type": "stream",
     "text": [
      "최적 하이퍼파라미터 : {'alpha': 0.00125, 'max_iter': 3000}\n"
     ]
    }
   ],
   "source": [
    "from sklearn.linear_model import Lasso\n",
    "\n",
    "# 모델 생성\n",
    "lasso_model = Lasso()\n",
    "# 하이퍼파라미터 값 목록\n",
    "lasso_alpha = 1/np.array([0.1, 1, 2, 3, 4, 10, 30, 100, 200, 300, 400, 800, 900, 1000])\n",
    "lasso_params = {'max_iter':[3000], 'alpha':lasso_alpha}\n",
    "# 그리드서치(with 라쏘) 객체 생성\n",
    "gridsearch_lasso_model = GridSearchCV(estimator=lasso_model,\n",
    "                                      param_grid=lasso_params,\n",
    "                                      scoring=rmsle_scorer,\n",
    "                                      cv=5)\n",
    "# 그리드서치 수행\n",
    "log_y = np.log(y)\n",
    "gridsearch_lasso_model.fit(X_train, log_y)\n",
    "\n",
    "print('최적 하이퍼파라미터 :', gridsearch_lasso_model.best_params_)"
   ]
  },
  {
   "cell_type": "markdown",
   "id": "f4e77a2f",
   "metadata": {
    "papermill": {
     "duration": 0.039912,
     "end_time": "2022-07-16T07:55:26.121227",
     "exception": false,
     "start_time": "2022-07-16T07:55:26.081315",
     "status": "completed"
    },
    "tags": []
   },
   "source": [
    "### 3.2.2 성능 검증"
   ]
  },
  {
   "cell_type": "code",
   "execution_count": 54,
   "id": "d2f3ff63",
   "metadata": {
    "execution": {
     "iopub.execute_input": "2022-07-16T07:55:26.180004Z",
     "iopub.status.busy": "2022-07-16T07:55:26.179616Z",
     "iopub.status.idle": "2022-07-16T07:55:26.200852Z",
     "shell.execute_reply": "2022-07-16T07:55:26.199353Z"
    },
    "papermill": {
     "duration": 0.054348,
     "end_time": "2022-07-16T07:55:26.204571",
     "exception": false,
     "start_time": "2022-07-16T07:55:26.150223",
     "status": "completed"
    },
    "tags": []
   },
   "outputs": [
    {
     "name": "stdout",
     "output_type": "stream",
     "text": [
      "라쏘 회귀 RMSLE 값 : 1.0205\n"
     ]
    }
   ],
   "source": [
    "# 예측\n",
    "preds = gridsearch_lasso_model.best_estimator_.predict(X_train)\n",
    "\n",
    "# 평가\n",
    "print(f'라쏘 회귀 RMSLE 값 : {rmsle(log_y, preds, True):.4f}')"
   ]
  },
  {
   "cell_type": "markdown",
   "id": "c93c968d",
   "metadata": {
    "papermill": {
     "duration": 0.055074,
     "end_time": "2022-07-16T07:55:26.317003",
     "exception": false,
     "start_time": "2022-07-16T07:55:26.261929",
     "status": "completed"
    },
    "tags": []
   },
   "source": [
    "# 3.3 성능 개선 III : 랜덤 포레스트 회귀 모델"
   ]
  },
  {
   "cell_type": "markdown",
   "id": "ebc47183",
   "metadata": {
    "papermill": {
     "duration": 0.028376,
     "end_time": "2022-07-16T07:55:26.373900",
     "exception": false,
     "start_time": "2022-07-16T07:55:26.345524",
     "status": "completed"
    },
    "tags": []
   },
   "source": [
    "### 3.3.1 하이퍼 파라미터 최적화(모델 훈련)"
   ]
  },
  {
   "cell_type": "code",
   "execution_count": 55,
   "id": "97695aa2",
   "metadata": {
    "execution": {
     "iopub.execute_input": "2022-07-16T07:55:26.431395Z",
     "iopub.status.busy": "2022-07-16T07:55:26.431026Z",
     "iopub.status.idle": "2022-07-16T07:56:15.087444Z",
     "shell.execute_reply": "2022-07-16T07:56:15.086295Z"
    },
    "papermill": {
     "duration": 48.716935,
     "end_time": "2022-07-16T07:56:15.118953",
     "exception": false,
     "start_time": "2022-07-16T07:55:26.402018",
     "status": "completed"
    },
    "tags": []
   },
   "outputs": [
    {
     "name": "stdout",
     "output_type": "stream",
     "text": [
      "최적 하이퍼파라미터 : {'n_estimators': 140, 'random_state': 42}\n"
     ]
    }
   ],
   "source": [
    "from sklearn.ensemble import RandomForestRegressor\n",
    "\n",
    "# 모델 생성\n",
    "randomforest_model = RandomForestRegressor()\n",
    "# 그리드서치 객체 생성\n",
    "rf_params = {'random_state':[42], 'n_estimators':[100, 120, 140]}\n",
    "gridsearch_random_forest_model = GridSearchCV(estimator=randomforest_model,\n",
    "                                              param_grid=rf_params,\n",
    "                                              scoring=rmsle_scorer,\n",
    "                                              cv=5)\n",
    "# 그리드서치 수행\n",
    "log_y = np.log(y)\n",
    "gridsearch_random_forest_model.fit(X_train, log_y)\n",
    "\n",
    "print('최적 하이퍼파라미터 :', gridsearch_random_forest_model.best_params_)"
   ]
  },
  {
   "cell_type": "markdown",
   "id": "8f10597c",
   "metadata": {
    "papermill": {
     "duration": 0.027722,
     "end_time": "2022-07-16T07:56:15.176584",
     "exception": false,
     "start_time": "2022-07-16T07:56:15.148862",
     "status": "completed"
    },
    "tags": []
   },
   "source": [
    "### 3.3.2 모델 성능 검증"
   ]
  },
  {
   "cell_type": "code",
   "execution_count": 56,
   "id": "f97b2d31",
   "metadata": {
    "execution": {
     "iopub.execute_input": "2022-07-16T07:56:15.234521Z",
     "iopub.status.busy": "2022-07-16T07:56:15.233918Z",
     "iopub.status.idle": "2022-07-16T07:56:15.539906Z",
     "shell.execute_reply": "2022-07-16T07:56:15.538597Z"
    },
    "papermill": {
     "duration": 0.337454,
     "end_time": "2022-07-16T07:56:15.542145",
     "exception": false,
     "start_time": "2022-07-16T07:56:15.204691",
     "status": "completed"
    },
    "tags": []
   },
   "outputs": [
    {
     "name": "stdout",
     "output_type": "stream",
     "text": [
      "랜덤 포레스트 회귀 RMSLE 값 : 0.1127\n"
     ]
    }
   ],
   "source": [
    "# 예측\n",
    "preds = gridsearch_random_forest_model.best_estimator_.predict(X_train)\n",
    "\n",
    "# 평가\n",
    "print(f'랜덤 포레스트 회귀 RMSLE 값 : {rmsle(log_y, preds, True):.4f}')"
   ]
  },
  {
   "cell_type": "markdown",
   "id": "c4e212ee",
   "metadata": {
    "papermill": {
     "duration": 0.028944,
     "end_time": "2022-07-16T07:56:15.599989",
     "exception": false,
     "start_time": "2022-07-16T07:56:15.571045",
     "status": "completed"
    },
    "tags": []
   },
   "source": [
    "### 예측 및 결과 제출"
   ]
  },
  {
   "cell_type": "code",
   "execution_count": 57,
   "id": "068a5c8b",
   "metadata": {
    "execution": {
     "iopub.execute_input": "2022-07-16T07:56:15.661827Z",
     "iopub.status.busy": "2022-07-16T07:56:15.660699Z",
     "iopub.status.idle": "2022-07-16T07:56:16.285185Z",
     "shell.execute_reply": "2022-07-16T07:56:16.284007Z"
    },
    "papermill": {
     "duration": 0.658088,
     "end_time": "2022-07-16T07:56:16.287469",
     "exception": false,
     "start_time": "2022-07-16T07:56:15.629381",
     "status": "completed"
    },
    "tags": []
   },
   "outputs": [
    {
     "data": {
      "image/png": "[encoded data removed]",
      "text/plain": [
       "<Figure size 720x288 with 2 Axes>"
      ]
     },
     "metadata": {
      "needs_background": "light"
     },
     "output_type": "display_data"
    }
   ],
   "source": [
    "import seaborn as sns\n",
    "import matplotlib.pyplot as plt\n",
    "\n",
    "randomforest_preds = gridsearch_random_forest_model.best_estimator_.predict(X_test)\n",
    "\n",
    "figure, axes = plt.subplots(ncols=2)\n",
    "figure.set_size_inches(10, 4)\n",
    "\n",
    "sns.histplot(y, bins=50, ax=axes[0])\n",
    "axes[0].set_title('Train Data Distribution')\n",
    "sns.histplot(np.exp(randomforest_preds), bins=50, ax=axes[1])\n",
    "axes[1].set_title('Predicted Test Data Distribution');"
   ]
  },
  {
   "cell_type": "code",
   "execution_count": 58,
   "id": "45d2246b",
   "metadata": {
    "execution": {
     "iopub.execute_input": "2022-07-16T07:56:16.347994Z",
     "iopub.status.busy": "2022-07-16T07:56:16.347613Z",
     "iopub.status.idle": "2022-07-16T07:56:16.370658Z",
     "shell.execute_reply": "2022-07-16T07:56:16.369689Z"
    },
    "papermill": {
     "duration": 0.05537,
     "end_time": "2022-07-16T07:56:16.372955",
     "exception": false,
     "start_time": "2022-07-16T07:56:16.317585",
     "status": "completed"
    },
    "tags": []
   },
   "outputs": [],
   "source": [
    "submission['count'] = np.exp(randomforest_preds) # 지수변환\n",
    "submission.to_csv('second_submission.csv', index=False)"
   ]
  },
  {
   "cell_type": "markdown",
   "id": "cd0852fb",
   "metadata": {
    "papermill": {
     "duration": 0.029292,
     "end_time": "2022-07-16T07:56:16.431261",
     "exception": false,
     "start_time": "2022-07-16T07:56:16.401969",
     "status": "completed"
    },
    "tags": []
   },
   "source": [
    "자, 여러분들이 여기까지 정상적으로 하셨다면 'Output/kaggle/working에 second_submission.csv이 생성되었을 겁니다.\n",
    "\n",
    "저 파일을 다운로드해서 직접 대회에 제출하고 평가 점수를 살펴보세요."
   ]
  },
  {
   "cell_type": "markdown",
   "id": "330ae2d0",
   "metadata": {
    "papermill": {
     "duration": 0.028639,
     "end_time": "2022-07-16T07:56:16.488239",
     "exception": false,
     "start_time": "2022-07-16T07:56:16.459600",
     "status": "completed"
    },
    "tags": []
   },
   "source": [
    "# 4.Challenge"
   ]
  },
  {
   "cell_type": "markdown",
   "id": "8e83cf54",
   "metadata": {
    "papermill": {
     "duration": 0.028205,
     "end_time": "2022-07-16T07:56:16.544817",
     "exception": false,
     "start_time": "2022-07-16T07:56:16.516612",
     "status": "completed"
    },
    "tags": []
   },
   "source": [
    "점수를 확인하셨나요?\n",
    "아마 점수가 높을겁니다. 하지만 높다고해서 순위권에 가깝다고 할 수 없습니다.\n",
    "\n",
    "자, 이번주는 필사 후 여러분들이 스스로 Challenge를 하는 것 입니다. 왜냐하면 다다음주에 1차 해커톤을 위함입니다.\n",
    "\n",
    "다음은 당연한 Tip을 열거했습니다.\n",
    "\n",
    "    1. 성능향상을 위한 추가적인 EDA 고민\n",
    "    2. feature에 대한 분석, 생성, 제거작업 추가진행\n",
    "    3. 모델 종류에 대한 고민\n",
    "    4. 모델 최적화에 대한 고민\n",
    "   \n",
    "<추가사항>\n",
    "추가적으로 Challenge를 하여서 부산 2기 내에서 점수 순위를 산정해보려고 합니다.\n",
    "\n",
    "전체인원을 집계할 생각은 전혀 없으며, 스스로 성능향상을 해보신 분에 한정해서 순위산정을 해보려고 합니다.\n",
    "\n",
    "목요일 캐글 필사시간 전까지 집계를 해보겠습니다."
   ]
  }
 ],
 "metadata": {
  "kernelspec": {
   "display_name": "Python 3",
   "language": "python",
   "name": "python3"
  },
  "language_info": {
   "codemirror_mode": {
    "name": "ipython",
    "version": 3
   },
   "file_extension": ".py",
   "mimetype": "text/x-python",
   "name": "python",
   "nbconvert_exporter": "python",
   "pygments_lexer": "ipython3",
   "version": "3.7.12"
  },
  "papermill": {
   "default_parameters": {},
   "duration": 94.956794,
   "end_time": "2022-07-16T07:56:17.394684",
   "environment_variables": {},
   "exception": null,
   "input_path": "__notebook__.ipynb",
   "output_path": "__notebook__.ipynb",
   "parameters": {},
   "start_time": "2022-07-16T07:54:42.437890",
   "version": "2.3.4"
  }
 },
 "nbformat": 4,
 "nbformat_minor": 5
}
